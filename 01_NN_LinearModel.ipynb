{
 "cells": [
  {
   "cell_type": "markdown",
   "metadata": {},
   "source": [
    "\n",
    "<h1 style=\"text-align: center;\"><a title=\"Data Science-AIMS-Cmr-2021-22\"> Linear Models as Neural Networks</h1>"
   ]
  },
  {
   "cell_type": "markdown",
   "metadata": {
    "id": "dV_1aPXOg_dl"
   },
   "source": [
    "## <font color=\"green\"> Learning outcomes:\n",
    "\n",
    "* Creating a linear regression model using Tensorflow and Dense layers - concise approach\n",
    "\n",
    "* Learning about the Sequential Model\n",
    "\n",
    "* How to view summary trainable weights\n",
    "\n",
    "## <font color=\"green\">Data information:\n",
    "\n",
    "* Features: one variable real-valued\n",
    "\n",
    "* Output: one variable real-valued\n",
    "\n",
    "## <font color=\"green\">Tasks for participants (boolean)?\n",
    "\n",
    "* * Yes, at the end (try avoid copy/pasting code, rather write it out)"
   ]
  },
  {
   "cell_type": "markdown",
   "metadata": {
    "id": "Odaw35SnUk6H"
   },
   "source": [
    "## Various Python imports"
   ]
  },
  {
   "cell_type": "code",
   "execution_count": null,
   "metadata": {
    "id": "fpwaJGV_za2Z"
   },
   "outputs": [],
   "source": [
    "from tensorflow import keras\n",
    "import numpy as np\n",
    "import tensorflow as tf\n",
    "import matplotlib.pyplot as plt"
   ]
  },
  {
   "cell_type": "markdown",
   "metadata": {
    "id": "PtQ6RX8OUqrI"
   },
   "source": [
    "### Let's create some data"
   ]
  },
  {
   "cell_type": "code",
   "execution_count": null,
   "metadata": {
    "id": "fms0XDGyzeJb"
   },
   "outputs": [],
   "source": [
    "X=np.arange(-10, 15, 0.1).reshape(-1, 1)\n",
    "Y=X+4"
   ]
  },
  {
   "cell_type": "markdown",
   "metadata": {
    "id": "Ca7n0ktoT0_p"
   },
   "source": [
    "View the first value X and Y values"
   ]
  },
  {
   "cell_type": "code",
   "execution_count": null,
   "metadata": {
    "colab": {
     "base_uri": "https://localhost:8080/"
    },
    "id": "fr9_lJ8NT1H0",
    "outputId": "0b64bb35-c5fa-4be8-c2a7-8ff7bde7ca45"
   },
   "outputs": [],
   "source": [
    "X[0:5]"
   ]
  },
  {
   "cell_type": "code",
   "execution_count": null,
   "metadata": {
    "colab": {
     "base_uri": "https://localhost:8080/"
    },
    "id": "YlAfjqTfT4jI",
    "outputId": "5e477088-2588-4939-d69c-92315435051e"
   },
   "outputs": [],
   "source": [
    "Y[0:5]"
   ]
  },
  {
   "cell_type": "markdown",
   "metadata": {
    "id": "VBotBx-EbU-w"
   },
   "source": [
    "Let's plot our data"
   ]
  },
  {
   "cell_type": "code",
   "execution_count": null,
   "metadata": {
    "colab": {
     "base_uri": "https://localhost:8080/",
     "height": 295
    },
    "id": "LIoE8f22bVFA",
    "outputId": "2870401b-61d2-44b3-df5e-3c7191abfa92"
   },
   "outputs": [],
   "source": [
    "plt.plot(X,Y,color='r',label='Data line')\n",
    "plt.legend(loc='right')\n",
    "plt.xlabel(\"X\")\n",
    "plt.ylabel(\"Y\")\n",
    "plt.title('Our data')\n",
    "plt.show()"
   ]
  },
  {
   "cell_type": "markdown",
   "metadata": {
    "id": "_QMU1gJwVLxB"
   },
   "source": [
    "### Task: What simple linear model do you think could be used to solve this problem? Express the model as y = .... ?"
   ]
  },
  {
   "cell_type": "markdown",
   "metadata": {
    "id": "QN88rOm-U0GG"
   },
   "source": [
    "## Step 1: Define a sequential model\n",
    "\n",
    "API documentation for Sequential https://www.tensorflow.org/api_docs/python/tf/keras/Sequential\n",
    "\n",
    "Definition: Sequential groups a linear stack of layers.\n",
    "\n",
    "Below we assign it to the variable 'model' but you can use any variable name, just like with normal Python."
   ]
  },
  {
   "cell_type": "code",
   "execution_count": null,
   "metadata": {
    "id": "fkbCxRIhzofE"
   },
   "outputs": [],
   "source": [
    "model = tf.keras.Sequential()"
   ]
  },
  {
   "cell_type": "code",
   "execution_count": null,
   "metadata": {
    "colab": {
     "base_uri": "https://localhost:8080/"
    },
    "id": "teioBvACUzOP",
    "outputId": "63f9c589-7d63-4e2f-ab9e-710a729bd9e0"
   },
   "outputs": [],
   "source": [
    "model"
   ]
  },
  {
   "cell_type": "markdown",
   "metadata": {
    "id": "3YqW0vLiU2Qj"
   },
   "source": [
    "## Step 2: Add the first layer\n",
    "\n",
    "Below we create the first hidden layer which has 1 unit.\n",
    "\n",
    "To add layer to our model we use the .add() function. Our network was stored in the variable 'model' so hence we use 'model.add()'.\n",
    "\n",
    "In the example below we are adding a fully connected layer which in Tensorflow is called a 'Dense' layer. The dense layer has a number of arguements, just like a normal Python function might have. Take a moment to look at the API to see which arguements it can take.\n",
    "\n",
    "API documentation for Dense https://www.tensorflow.org/api_docs/python/tf/keras/layers/Dense\n",
    "\n",
    "The Dense layer takes on a number of arguements such as 'kernel_initializer', 'bias_initializer', ... . But to start off with we won't specify values ourselves for all of those, instead, we will use the default values to make this example easier. The absolute minimum is to specify the number of units.\n",
    "\n",
    "We also need to specify the input shape *only* on the very first hidden layer in a Tensorflow model. This makes sense as the code needs to know how many inputs there are so that it can create the correct weights.\n",
    "\n",
    "We also specify an activation function, in this case the linear function"
   ]
  },
  {
   "cell_type": "code",
   "execution_count": null,
   "metadata": {
    "id": "BaqVpp-8zuSz"
   },
   "outputs": [],
   "source": [
    "model.add(keras.layers.Dense(units=1, input_shape=[1], activation='linear'))"
   ]
  },
  {
   "cell_type": "markdown",
   "metadata": {
    "id": "IX8I5x2xZ-nt"
   },
   "source": [
    "## Task: what do you think the model looks like if you had to draw it on paper?"
   ]
  },
  {
   "cell_type": "markdown",
   "metadata": {
    "id": "ksv1Ax3fU4Mp"
   },
   "source": [
    "## Step 3: Compile the model\n",
    "\n",
    "Before training a model, we need to compile it. This allows us to provide the loss function and the optimiser."
   ]
  },
  {
   "cell_type": "code",
   "execution_count": null,
   "metadata": {
    "id": "B3E8n9b9z3wz"
   },
   "outputs": [],
   "source": [
    "model.compile(loss = \"mean_squared_error\", optimizer=\"sgd\", metrics=['mse'])"
   ]
  },
  {
   "cell_type": "markdown",
   "metadata": {
    "id": "LQfSstLIYC9y"
   },
   "source": [
    "## Take a look at the model before training\n",
    "\n",
    "The output contains three columns. Take a moment to look at them.\n",
    "\n",
    "* Does the output shape make sense for our data?\n",
    "\n",
    "* Why are there only two parameters (column named: Param #)?\n",
    "\n",
    "* What does trainable/non-trainable mean?\n",
    "\n",
    "* Why is there \"None\" in the output shape?"
   ]
  },
  {
   "cell_type": "code",
   "execution_count": null,
   "metadata": {
    "colab": {
     "base_uri": "https://localhost:8080/"
    },
    "id": "Z5isFn42YDFj",
    "outputId": "dbd6898c-9126-483c-b282-3046d83ea1f0"
   },
   "outputs": [],
   "source": [
    "model.summary()"
   ]
  },
  {
   "cell_type": "markdown",
   "metadata": {
    "id": "AQinhsDxU6mJ"
   },
   "source": [
    "## View the weights of the model\n",
    "\n",
    "Now that we have defined and compiled our model let's take a moment to see what the randomly initialised weights are. The array below contains 2 values. Does this make sense? What could each one represent?"
   ]
  },
  {
   "cell_type": "code",
   "execution_count": null,
   "metadata": {
    "colab": {
     "base_uri": "https://localhost:8080/"
    },
    "id": "WFJ7BBtW3zfT",
    "outputId": "bc0f7167-303f-4bdb-e081-d2fdb2a19d3c"
   },
   "outputs": [],
   "source": [
    "model.get_weights()"
   ]
  },
  {
   "cell_type": "markdown",
   "metadata": {
    "id": "3sXpNaW6XOcs"
   },
   "source": [
    "## Given the values above, what does the model now represent if you had to write it out\n",
    "\n",
    "## y = ... ?"
   ]
  },
  {
   "cell_type": "markdown",
   "metadata": {
    "id": "QyxYpCH1U8Qa"
   },
   "source": [
    "## Let's see what the model will predict on some arbitrary value (e.g. 34). Note that we haven't trained the model yet so it would be reasonable to expect an incorrect output.\n",
    "\n",
    "## What should the correct output actually be for our example input of 34?"
   ]
  },
  {
   "cell_type": "code",
   "execution_count": null,
   "metadata": {
    "colab": {
     "base_uri": "https://localhost:8080/"
    },
    "id": "D1HQyeE332cM",
    "outputId": "5ad3bd78-8bbc-4759-fdc0-9fbe219dfb0b"
   },
   "outputs": [],
   "source": [
    "model.predict([34.0])"
   ]
  },
  {
   "cell_type": "markdown",
   "metadata": {
    "id": "liOHf0iOVAqO"
   },
   "source": [
    "## Step 4: Train the network\n",
    "\n",
    "To train the model we use the .fit() function.\n",
    "\n",
    "API for the .fit() https://www.tensorflow.org/api_docs/python/tf/keras/Model#fit is actually in the Model object. This makes sense as we had essentially created a Model object for which one of it's properties is 'fit'. This function takes on many parameters, let's ignore a lot of them for now. The minimum is to provide the features (X), targets (Y) and number of epochs.\n",
    "\n",
    "Let's keep it simple and train for 15 epochs.\n",
    "\n",
    "Take a look at the output. Information about each epoch is provided.\n",
    "\n",
    "Note that we store the result of this function call into a variable called 'history'. This will allow us to extract information about the loss and the 'metric' over each epoch - essentially allowing us to make plots.\n",
    "\n"
   ]
  },
  {
   "cell_type": "code",
   "execution_count": null,
   "metadata": {
    "colab": {
     "base_uri": "https://localhost:8080/"
    },
    "id": "ay5LYPLE0QAc",
    "outputId": "82a3ef45-0ad0-4a7d-a4d1-fc0e842176b3"
   },
   "outputs": [],
   "source": [
    "history = model.fit(X, Y, epochs=15)"
   ]
  },
  {
   "cell_type": "markdown",
   "metadata": {
    "id": "vonx2u7zX2Sg"
   },
   "source": [
    "## Plot the training history\n",
    "\n",
    "To plot the history of the training, we make use of the 'history' variable defined above. Note that you can name it anything you want, just like with any Python variable. First let's see what is inside the history variable. It contains a property called '.history'. Let's view it"
   ]
  },
  {
   "cell_type": "code",
   "execution_count": null,
   "metadata": {
    "colab": {
     "base_uri": "https://localhost:8080/"
    },
    "id": "AgJ-IE7KY86h",
    "outputId": "ee5778c7-8214-4506-c117-12a9facb7f5f"
   },
   "outputs": [],
   "source": [
    "history.history"
   ]
  },
  {
   "cell_type": "code",
   "execution_count": null,
   "metadata": {
    "colab": {
     "base_uri": "https://localhost:8080/",
     "height": 513
    },
    "id": "73VxGbc2V0X6",
    "outputId": "ce8634b0-b08b-42ba-d6b8-a16b90b6d926"
   },
   "outputs": [],
   "source": [
    "plt.figure(figsize=(8, 8))\n",
    "plt.plot(history.history['mse'])\n",
    "plt.title('Model loss')\n",
    "plt.ylabel('Mean Squared Error')\n",
    "plt.xlabel('Epoch')\n",
    "plt.show()"
   ]
  },
  {
   "cell_type": "markdown",
   "metadata": {
    "id": "EW2R3xkRX64b"
   },
   "source": [
    "## Predict on some value\n",
    "\n",
    "We can use the .prediction() function to make predictions. API https://www.tensorflow.org/api_docs/python/tf/keras/Model#predict"
   ]
  },
  {
   "cell_type": "code",
   "execution_count": null,
   "metadata": {
    "colab": {
     "base_uri": "https://localhost:8080/"
    },
    "id": "NM-xR-gQ0UUk",
    "outputId": "56fe83ec-0695-4f36-a6fc-5d10d9093e41"
   },
   "outputs": [],
   "source": [
    "model.predict([34.0])"
   ]
  },
  {
   "cell_type": "markdown",
   "metadata": {
    "id": "PILO7dc3X8-C"
   },
   "source": [
    "## View the weights of the model (after training) Compare these to the weights you got before training."
   ]
  },
  {
   "cell_type": "code",
   "execution_count": null,
   "metadata": {
    "colab": {
     "base_uri": "https://localhost:8080/"
    },
    "id": "Lb-IoZjr0Xlv",
    "outputId": "f6937540-f2c6-44cd-a221-8ef4a36237c9"
   },
   "outputs": [],
   "source": [
    "model.get_weights()"
   ]
  },
  {
   "cell_type": "markdown",
   "metadata": {
    "id": "Poxi1m3RYKAL"
   },
   "source": [
    "## Extract the first weight"
   ]
  },
  {
   "cell_type": "code",
   "execution_count": null,
   "metadata": {
    "colab": {
     "base_uri": "https://localhost:8080/"
    },
    "id": "FweQvgdT0-gw",
    "outputId": "2055b434-aac6-4354-889f-7a02eb059f30"
   },
   "outputs": [],
   "source": [
    "model.layers[0].get_weights()[0][0][0]"
   ]
  },
  {
   "cell_type": "markdown",
   "metadata": {
    "id": "KF4bhUCHYMUn"
   },
   "source": [
    "## Extract the bias"
   ]
  },
  {
   "cell_type": "code",
   "execution_count": null,
   "metadata": {
    "colab": {
     "base_uri": "https://localhost:8080/"
    },
    "id": "CIRl5-0D1SB_",
    "outputId": "caf4dc3c-c239-4b25-a33a-3d449ce147de"
   },
   "outputs": [],
   "source": [
    "model.layers[0].get_weights()[1][0]"
   ]
  },
  {
   "cell_type": "markdown",
   "metadata": {
    "id": "tOr7mYWIYN74"
   },
   "source": [
    "## Insert the values into the equation w_1 X + b, where X = 34. Does this give the same result as the predict function above? Based on the weight and bias you obtained, do these values seem reasonable for our data?"
   ]
  },
  {
   "cell_type": "code",
   "execution_count": null,
   "metadata": {
    "colab": {
     "base_uri": "https://localhost:8080/"
    },
    "id": "aHzEw_gE1k5V",
    "outputId": "0ab4cca4-d81f-44be-bd09-5278caaf1bd6"
   },
   "outputs": [],
   "source": [
    "34*model.layers[0].get_weights()[0][0][0] + model.layers[0].get_weights()[1][0]"
   ]
  },
  {
   "cell_type": "markdown",
   "metadata": {
    "id": "x5RTMm6_Mt8T"
   },
   "source": [
    "## Plot the results"
   ]
  },
  {
   "cell_type": "code",
   "execution_count": null,
   "metadata": {
    "colab": {
     "base_uri": "https://localhost:8080/",
     "height": 295
    },
    "id": "PDnULuxYMuBx",
    "outputId": "ed476e20-0447-4c74-9d54-b8e48277c925"
   },
   "outputs": [],
   "source": [
    "plt.plot(X,Y,color='r',label='Correct output')\n",
    "plt.plot(X,model.predict(X),color='b', linestyle='dashed',label='Network output')\n",
    "plt.legend(loc='right')\n",
    "plt.xlabel(\"X\")\n",
    "plt.ylabel(\"Y\")\n",
    "plt.title('Simple linear neural network')\n",
    "plt.show()"
   ]
  },
  {
   "cell_type": "markdown",
   "metadata": {},
   "source": [
    "## Exercise: (Remember the assignment?)\n",
    "\n",
    "* Use the advertising dataset available [here](https://raw.githubusercontent.com/rock-feller/Datasets_for_Education/main/data_01/Advertising.csv) \n",
    "* Divide it intro train and test set (20% for the test set) \n",
    "* T train a **Shallow Neural Network** to predict  **the Sales** based on **Advertising** on **TV, Radio and Newspaper**\n",
    "* Train a **Deep Neural Network** to predict  **the Sales** based on **Advertising** on **TV, Radio and Newspaper**\n",
    "* Try and Tune some hyperparameters to get your best model your mean square error here: https://docs.google.com/forms/d/e/1FAIpQLSdKxBAULDyDz94iAWJeJxAIswpiyT4WamPrAkioyl-GLKCrXw/viewform?usp=sf_link"
   ]
  },
  {
   "cell_type": "code",
   "execution_count": null,
   "metadata": {},
   "outputs": [],
   "source": [
    "### WRITE YOUR CODE HERE (USE THE ONE ABOVE AND IMPROVE IT)\n",
    "\n",
    "\n"
   ]
  },
  {
   "cell_type": "code",
   "execution_count": null,
   "metadata": {},
   "outputs": [],
   "source": []
  },
  {
   "cell_type": "markdown",
   "metadata": {
    "id": "N2L3NNX0ZR2l"
   },
   "source": [
    "# References:\n",
    "\n",
    "* This notebook was adpated from Dr. Emmanuel Dufourq,  2021 Gene Golub SIAM Summer School "
   ]
  },
  {
   "cell_type": "code",
   "execution_count": null,
   "metadata": {},
   "outputs": [],
   "source": []
  }
 ],
 "metadata": {
  "colab": {
   "collapsed_sections": [],
   "name": "SIAM2021 NN Linear Model.ipynb",
   "provenance": []
  },
  "kernelspec": {
   "display_name": "Python 3 (ipykernel)",
   "language": "python",
   "name": "python3"
  },
  "language_info": {
   "codemirror_mode": {
    "name": "ipython",
    "version": 3
   },
   "file_extension": ".py",
   "mimetype": "text/x-python",
   "name": "python",
   "nbconvert_exporter": "python",
   "pygments_lexer": "ipython3",
   "version": "3.9.13"
  }
 },
 "nbformat": 4,
 "nbformat_minor": 1
}
