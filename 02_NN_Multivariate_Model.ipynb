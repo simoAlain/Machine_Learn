{
 "cells": [
  {
   "cell_type": "markdown",
   "metadata": {},
   "source": [
    "<h1 style=\"text-align: center;\"><a title=\"Data Science-AIMS-Cmr-2021-22\">Multivariate Models as Neural Networks</h1>"
   ]
  },
  {
   "cell_type": "markdown",
   "metadata": {
    "id": "XO7xEQ1hptjo"
   },
   "source": [
    "## <font color=\"green\"> Learning outcomes:\n",
    "\n",
    "* Splitting data into training/testing using Scikit-learn\n",
    "\n",
    "* use ```plot_model``` to get another view of the model\n",
    "\n",
    "* learn about ```tensorflow.keras.initializers```\n",
    "\n",
    "* use ```tf.random.set_seed``` for reproducible results\n",
    "\n",
    "* creating an ANN model\n",
    "\n",
    "## <font color=\"green\">Data information:\n",
    "\n",
    "* Features: 12 feature (real-valued) input\n",
    "\n",
    "* Output: 1 real valued output\n",
    "\n",
    "## <font color=\"green\">Tasks for participants (boolean)?\n",
    "\n",
    "* Yes, at the end (try avoid copy/pasting code, rather write it out)"
   ]
  },
  {
   "cell_type": "markdown",
   "metadata": {
    "id": "Odaw35SnUk6H"
   },
   "source": [
    "## Various Python imports"
   ]
  },
  {
   "cell_type": "code",
   "execution_count": null,
   "metadata": {
    "id": "U8M1nH2IzI7x"
   },
   "outputs": [],
   "source": [
    "import numpy as np\n",
    "np.random.seed(1337) # for reproducibility\n",
    "import pandas\n",
    "from tensorflow.keras.models import Sequential\n",
    "from tensorflow.keras.layers import Dense\n",
    "from tensorflow.keras import metrics\n",
    "from tensorflow.keras.utils import plot_model\n",
    "\n",
    "from sklearn.metrics import mean_squared_error\n",
    "from sklearn.model_selection import train_test_split\n",
    "import matplotlib.pyplot as plt\n",
    "\n",
    "from tensorflow.keras.optimizers import Adam\n",
    "from tensorflow.keras.initializers import RandomNormal\n",
    "from tensorflow.keras.losses import MeanSquaredError\n",
    "from tensorflow.keras.losses import Huber\n",
    "import tensorflow as tf"
   ]
  },
  {
   "cell_type": "markdown",
   "metadata": {
    "id": "H1VWGvj2zI8B"
   },
   "source": [
    "## Load the dataset\n",
    "\n",
    "There are 506 samples and 13 feature variables in this dataset. The objective is to predict the value of prices of the house using the given features. \n",
    "\n",
    "Here we use the pandas read_csv function which lets us read CSV-style files."
   ]
  },
  {
   "cell_type": "code",
   "execution_count": null,
   "metadata": {
    "id": "wae_HjknzI8E"
   },
   "outputs": [],
   "source": [
    "dataframe = pandas.read_csv(\"http://www.emmanueldufourq.com/BostonHousePrice.txt\", header=None,delim_whitespace=True)"
   ]
  },
  {
   "cell_type": "markdown",
   "metadata": {
    "id": "nP7i2EOwyZVa"
   },
   "source": [
    "## View top 5 records\n",
    "\n",
    "It's always a good idea to take a look at the data before doing any ML related task"
   ]
  },
  {
   "cell_type": "code",
   "execution_count": null,
   "metadata": {
    "colab": {
     "base_uri": "https://localhost:8080/",
     "height": 206
    },
    "id": "pM9-iHobzI8L",
    "outputId": "db80b4ea-57e1-4329-d899-b20620fa90a3"
   },
   "outputs": [
    {
     "data": {
      "text/html": [
       "<div>\n",
       "<style scoped>\n",
       "    .dataframe tbody tr th:only-of-type {\n",
       "        vertical-align: middle;\n",
       "    }\n",
       "\n",
       "    .dataframe tbody tr th {\n",
       "        vertical-align: top;\n",
       "    }\n",
       "\n",
       "    .dataframe thead th {\n",
       "        text-align: right;\n",
       "    }\n",
       "</style>\n",
       "<table border=\"1\" class=\"dataframe\">\n",
       "  <thead>\n",
       "    <tr style=\"text-align: right;\">\n",
       "      <th></th>\n",
       "      <th>0</th>\n",
       "      <th>1</th>\n",
       "      <th>2</th>\n",
       "      <th>3</th>\n",
       "      <th>4</th>\n",
       "      <th>5</th>\n",
       "      <th>6</th>\n",
       "      <th>7</th>\n",
       "      <th>8</th>\n",
       "      <th>9</th>\n",
       "      <th>10</th>\n",
       "      <th>11</th>\n",
       "      <th>12</th>\n",
       "      <th>13</th>\n",
       "    </tr>\n",
       "  </thead>\n",
       "  <tbody>\n",
       "    <tr>\n",
       "      <th>0</th>\n",
       "      <td>0.00632</td>\n",
       "      <td>18.0</td>\n",
       "      <td>2.31</td>\n",
       "      <td>0</td>\n",
       "      <td>0.538</td>\n",
       "      <td>6.575</td>\n",
       "      <td>65.2</td>\n",
       "      <td>4.0900</td>\n",
       "      <td>1</td>\n",
       "      <td>296.0</td>\n",
       "      <td>15.3</td>\n",
       "      <td>396.90</td>\n",
       "      <td>4.98</td>\n",
       "      <td>24.0</td>\n",
       "    </tr>\n",
       "    <tr>\n",
       "      <th>1</th>\n",
       "      <td>0.02731</td>\n",
       "      <td>0.0</td>\n",
       "      <td>7.07</td>\n",
       "      <td>0</td>\n",
       "      <td>0.469</td>\n",
       "      <td>6.421</td>\n",
       "      <td>78.9</td>\n",
       "      <td>4.9671</td>\n",
       "      <td>2</td>\n",
       "      <td>242.0</td>\n",
       "      <td>17.8</td>\n",
       "      <td>396.90</td>\n",
       "      <td>9.14</td>\n",
       "      <td>21.6</td>\n",
       "    </tr>\n",
       "    <tr>\n",
       "      <th>2</th>\n",
       "      <td>0.02729</td>\n",
       "      <td>0.0</td>\n",
       "      <td>7.07</td>\n",
       "      <td>0</td>\n",
       "      <td>0.469</td>\n",
       "      <td>7.185</td>\n",
       "      <td>61.1</td>\n",
       "      <td>4.9671</td>\n",
       "      <td>2</td>\n",
       "      <td>242.0</td>\n",
       "      <td>17.8</td>\n",
       "      <td>392.83</td>\n",
       "      <td>4.03</td>\n",
       "      <td>34.7</td>\n",
       "    </tr>\n",
       "    <tr>\n",
       "      <th>3</th>\n",
       "      <td>0.03237</td>\n",
       "      <td>0.0</td>\n",
       "      <td>2.18</td>\n",
       "      <td>0</td>\n",
       "      <td>0.458</td>\n",
       "      <td>6.998</td>\n",
       "      <td>45.8</td>\n",
       "      <td>6.0622</td>\n",
       "      <td>3</td>\n",
       "      <td>222.0</td>\n",
       "      <td>18.7</td>\n",
       "      <td>394.63</td>\n",
       "      <td>2.94</td>\n",
       "      <td>33.4</td>\n",
       "    </tr>\n",
       "    <tr>\n",
       "      <th>4</th>\n",
       "      <td>0.06905</td>\n",
       "      <td>0.0</td>\n",
       "      <td>2.18</td>\n",
       "      <td>0</td>\n",
       "      <td>0.458</td>\n",
       "      <td>7.147</td>\n",
       "      <td>54.2</td>\n",
       "      <td>6.0622</td>\n",
       "      <td>3</td>\n",
       "      <td>222.0</td>\n",
       "      <td>18.7</td>\n",
       "      <td>396.90</td>\n",
       "      <td>5.33</td>\n",
       "      <td>36.2</td>\n",
       "    </tr>\n",
       "  </tbody>\n",
       "</table>\n",
       "</div>"
      ],
      "text/plain": [
       "        0     1     2   3      4      5   ...  8      9     10      11    12    13\n",
       "0  0.00632  18.0  2.31   0  0.538  6.575  ...   1  296.0  15.3  396.90  4.98  24.0\n",
       "1  0.02731   0.0  7.07   0  0.469  6.421  ...   2  242.0  17.8  396.90  9.14  21.6\n",
       "2  0.02729   0.0  7.07   0  0.469  7.185  ...   2  242.0  17.8  392.83  4.03  34.7\n",
       "3  0.03237   0.0  2.18   0  0.458  6.998  ...   3  222.0  18.7  394.63  2.94  33.4\n",
       "4  0.06905   0.0  2.18   0  0.458  7.147  ...   3  222.0  18.7  396.90  5.33  36.2\n",
       "\n",
       "[5 rows x 14 columns]"
      ]
     },
     "execution_count": 25,
     "metadata": {
      "tags": []
     },
     "output_type": "execute_result"
    }
   ],
   "source": [
    "dataframe.head()"
   ]
  },
  {
   "cell_type": "markdown",
   "metadata": {
    "id": "jLCixezkWCWF"
   },
   "source": [
    "We can extract the values from the dataframe by calling the .values() function"
   ]
  },
  {
   "cell_type": "code",
   "execution_count": null,
   "metadata": {
    "id": "-P_3Nx9bWCdt"
   },
   "outputs": [],
   "source": [
    "dataset = dataframe.values"
   ]
  },
  {
   "cell_type": "markdown",
   "metadata": {
    "id": "J3tjP7gzybOr"
   },
   "source": [
    "## View all data"
   ]
  },
  {
   "cell_type": "code",
   "execution_count": null,
   "metadata": {
    "colab": {
     "base_uri": "https://localhost:8080/"
    },
    "id": "36sq79_KzI8W",
    "outputId": "f302d43b-8dcf-4190-b385-c49db5068785"
   },
   "outputs": [
    {
     "data": {
      "text/plain": [
       "array([[6.3200e-03, 1.8000e+01, 2.3100e+00, ..., 3.9690e+02, 4.9800e+00,\n",
       "        2.4000e+01],\n",
       "       [2.7310e-02, 0.0000e+00, 7.0700e+00, ..., 3.9690e+02, 9.1400e+00,\n",
       "        2.1600e+01],\n",
       "       [2.7290e-02, 0.0000e+00, 7.0700e+00, ..., 3.9283e+02, 4.0300e+00,\n",
       "        3.4700e+01],\n",
       "       ...,\n",
       "       [6.0760e-02, 0.0000e+00, 1.1930e+01, ..., 3.9690e+02, 5.6400e+00,\n",
       "        2.3900e+01],\n",
       "       [1.0959e-01, 0.0000e+00, 1.1930e+01, ..., 3.9345e+02, 6.4800e+00,\n",
       "        2.2000e+01],\n",
       "       [4.7410e-02, 0.0000e+00, 1.1930e+01, ..., 3.9690e+02, 7.8800e+00,\n",
       "        1.1900e+01]])"
      ]
     },
     "execution_count": 27,
     "metadata": {
      "tags": []
     },
     "output_type": "execute_result"
    }
   ],
   "source": [
    "dataset"
   ]
  },
  {
   "cell_type": "code",
   "execution_count": null,
   "metadata": {
    "colab": {
     "base_uri": "https://localhost:8080/"
    },
    "id": "EFhRFDfjWKUj",
    "outputId": "f5aa40ed-20bc-4cdb-df11-249c5eb1c95f"
   },
   "outputs": [
    {
     "data": {
      "text/plain": [
       "(506, 14)"
      ]
     },
     "execution_count": 28,
     "metadata": {
      "tags": []
     },
     "output_type": "execute_result"
    }
   ],
   "source": [
    "dataset.shape"
   ]
  },
  {
   "cell_type": "markdown",
   "metadata": {
    "id": "_Uw5hFlSWPaV"
   },
   "source": [
    "Okay so we have 506 records and 14 columns. One column is the target class, namely the last column. So given this information, we can split the dataset into the features and the target class. The first 13 columns will be our features, typically denoted as X and the last column is the class, typically denoted as Y."
   ]
  },
  {
   "cell_type": "markdown",
   "metadata": {
    "id": "xkjvHAwIzI8d"
   },
   "source": [
    "## Split the data into features and the class values"
   ]
  },
  {
   "cell_type": "code",
   "execution_count": null,
   "metadata": {
    "id": "fpXOcpfNzI8f"
   },
   "outputs": [],
   "source": [
    "X = dataset[:,0:13]\n",
    "Y = dataset[:,13]"
   ]
  },
  {
   "cell_type": "markdown",
   "metadata": {
    "id": "ha1wy7GbWk1r"
   },
   "source": [
    "It is generally a good idea to check your data once you conduct some manipulation. Here we split the data so it would be wise to check that we did this correctly. One way would be to check the shapes of the data and then look at some values."
   ]
  },
  {
   "cell_type": "markdown",
   "metadata": {
    "id": "YiV6vedSyeKO"
   },
   "source": [
    "## Check the shapes of the data"
   ]
  },
  {
   "cell_type": "code",
   "execution_count": null,
   "metadata": {
    "colab": {
     "base_uri": "https://localhost:8080/"
    },
    "id": "reP8T4fuzI8k",
    "outputId": "a0e8be73-037f-42e8-a880-d8153dfd0b3b"
   },
   "outputs": [
    {
     "data": {
      "text/plain": [
       "(506, 13)"
      ]
     },
     "execution_count": 30,
     "metadata": {
      "tags": []
     },
     "output_type": "execute_result"
    }
   ],
   "source": [
    "X.shape"
   ]
  },
  {
   "cell_type": "code",
   "execution_count": null,
   "metadata": {
    "colab": {
     "base_uri": "https://localhost:8080/"
    },
    "id": "IThy90cczI8r",
    "outputId": "a70c4069-2246-444d-b6cd-b254b1a6a8db"
   },
   "outputs": [
    {
     "data": {
      "text/plain": [
       "(506,)"
      ]
     },
     "execution_count": 31,
     "metadata": {
      "tags": []
     },
     "output_type": "execute_result"
    }
   ],
   "source": [
    "Y.shape"
   ]
  },
  {
   "cell_type": "code",
   "execution_count": null,
   "metadata": {
    "colab": {
     "base_uri": "https://localhost:8080/"
    },
    "id": "d_HVtLIPzI8y",
    "outputId": "34b6df07-6b91-4d92-ae89-d4616bfb1e7d"
   },
   "outputs": [
    {
     "data": {
      "text/plain": [
       "array([24. , 21.6, 34.7, 33.4, 36.2])"
      ]
     },
     "execution_count": 32,
     "metadata": {
      "tags": []
     },
     "output_type": "execute_result"
    }
   ],
   "source": [
    "Y[0:5]"
   ]
  },
  {
   "cell_type": "markdown",
   "metadata": {
    "id": "mGel5X9vW8WG"
   },
   "source": [
    "After inspection, the shapes look correct and the target values look correct too. Once we have our data into X (features) and Y (class) variables we can proceed to the next step which is to create training and testing data. It is typically a good idea to split the data into training, validation and testing.\n",
    "\n",
    "To do this, we can use Scikit learn's train_test_split function. Check out the documentation https://scikit-learn.org/stable/modules/generated/sklearn.model_selection.train_test_split.html?highlight=train_test#sklearn.model_selection.train_test_split\n",
    "\n",
    "We can use the function twice. The first time we split X and Y into two sets (training and testing). We then leave the testing data. We take the training data and then split it into two (training and validation). In doing so, we create three splits.\n",
    "\n",
    "Check out the two parameters: test_size and random_state."
   ]
  },
  {
   "cell_type": "markdown",
   "metadata": {
    "id": "ENDcb5y1zI85"
   },
   "source": [
    "## Split the data into training and test data"
   ]
  },
  {
   "cell_type": "code",
   "execution_count": null,
   "metadata": {
    "id": "KNRXxIANzI86"
   },
   "outputs": [],
   "source": [
    "X_train, X_test, Y_train, Y_test = train_test_split(X, Y, test_size=0.2, random_state=1)\n",
    "\n",
    "X_train, X_val, Y_train, Y_val = train_test_split(X_train, Y_train, test_size=0.2, random_state=1) "
   ]
  },
  {
   "cell_type": "markdown",
   "metadata": {
    "id": "Q9_lOUvLsnOd"
   },
   "source": [
    "It is generally a good idea to check your data once you conduct some manipulation. Here we split the data so it would be wise to check that we did this correctly. One way would be to check the shapes of the data and then look at some values."
   ]
  },
  {
   "cell_type": "code",
   "execution_count": null,
   "metadata": {
    "colab": {
     "base_uri": "https://localhost:8080/"
    },
    "id": "tmX1xhp2sO6T",
    "outputId": "35480cf5-65b5-4338-95c6-dc6627761812"
   },
   "outputs": [
    {
     "name": "stdout",
     "output_type": "stream",
     "text": [
      "X_train shape: (323, 13)\n",
      "Y_train shape: (323,)\n",
      "\n",
      "X_val shape: (81, 13)\n",
      "Y_val shape: (81,)\n",
      "\n",
      "X_test shape: (102, 13)\n",
      "Y_test shape: (102,)\n"
     ]
    }
   ],
   "source": [
    "print ('X_train shape:',X_train.shape)\n",
    "print ('Y_train shape:',Y_train.shape)\n",
    "\n",
    "print ()\n",
    "\n",
    "print ('X_val shape:',X_val.shape)\n",
    "print ('Y_val shape:',Y_val.shape)\n",
    "\n",
    "print ()\n",
    "\n",
    "print ('X_test shape:',X_test.shape)\n",
    "print ('Y_test shape:',Y_test.shape)"
   ]
  },
  {
   "cell_type": "markdown",
   "metadata": {
    "id": "248QHMZlzI9d"
   },
   "source": [
    "## Create a neural network model\n",
    "\n",
    "In the previous example, we created the model directly into the notebook cells. This time we will create the model in a Python function so that we can call it several times to re-create the model (should we wish to).\n",
    "\n",
    "The function below shows you how to stack layers, i.e. we call the .add() function twice. In this manner, you can add more layers and create deeper neural networks. After defining the architecture of the model we call the compile function with mean squared error loss. Finally, we return the whole model object.\n",
    "\n",
    "Note that here we call the Python function 'baseline'. You can all it anything you want; it is a normal Python function. Similarily, the variable 'model' in the code could be called anything you want. It helps to use meaninig names, just like with normal variables in any programming language.\n",
    "\n",
    "We add some more details this time:\n",
    "\n",
    "1) We define how the weights are initialised\n",
    "\n",
    "2) We define the optimiser.\n",
    "\n",
    "3) We set a seed\n",
    "\n",
    "4) We set the loss function\n",
    "\n",
    "For (1) here we specify that each weight parameter should be randomly sampled from a normal distribution with mean 0 and standard deviation 0.01. The bias parameter will be initialized to zero. We use the RandomNormal (https://tensorflow.google.cn/api_docs/python/tf/keras/initializers/RandomNormal). There are various initialisation methods, take a look at the API. Note that we added an extra import at the top of this notebook.\n",
    "\n",
    "For (2) here we specify that we want to use the Adam optimiser (https://tensorflow.google.cn/api_docs/python/tf/keras/optimizers/Adam) but there are of course other options (e.g. SGD) - take a look at the API. Note that we added an extra import at the top of this notebook.\n",
    "\n",
    "For (3) this allows us to get the same results everytime we create the model and execute training and predictions. If we remove this, and train various times we will get different results. Sometimes having reproducible results is desirable.  Documentation on reproducible results: https://www.tensorflow.org/api_docs/python/tf/random/set_seed\n",
    "\n",
    "For (4) we specify the loss function as a Tensorflow.keras.losses object https://tensorflow.google.cn/api_docs/python/tf/keras/losses/MeanSquaredError there are other loss functions available, check out the API. Of course, not all loss functions will make sense for a problem."
   ]
  },
  {
   "cell_type": "code",
   "execution_count": null,
   "metadata": {
    "id": "HJWPXPcfzI9f"
   },
   "outputs": [],
   "source": [
    "# define the model\n",
    "def baseline():\n",
    "\n",
    "    # Seeting a seed so we can reproduce the results\n",
    "    tf.random.set_seed(1337)\n",
    "\n",
    "    # create model\n",
    "    model = Sequential()\n",
    "\n",
    "    # Define the initialisation method\n",
    "    initializer = RandomNormal(mean = 0.0, stddev=0.01)\n",
    "    \n",
    "    # add one fully connected layer\n",
    "    model.add(Dense(units = 13, input_dim=13, activation='relu', kernel_initializer = initializer))\n",
    "    \n",
    "    # add a fully connected layer for the output\n",
    "    model.add(Dense(1, activation='linear', kernel_initializer = initializer))\n",
    "    \n",
    "    # Define the optimiser\n",
    "    optimiser = Adam(learning_rate=0.001)\n",
    "\n",
    "    # Define the loss function\n",
    "    loss_mse = MeanSquaredError()\n",
    "    \n",
    "    # Compile model\n",
    "    model.compile(loss=loss_mse, optimizer=optimiser, metrics=[metrics.mse])\n",
    "    \n",
    "    return model"
   ]
  },
  {
   "cell_type": "markdown",
   "metadata": {
    "id": "hS-Jr8DkRXWV"
   },
   "source": [
    "## Task: given the above function, can you draw the model on paper. When you are done, check your answer by comparing it to the plot below."
   ]
  },
  {
   "cell_type": "markdown",
   "metadata": {
    "id": "9Fdv_46LQPRL"
   },
   "source": [
    "## Initialise model\n",
    "\n",
    "To initialise the model, we call our Python function which contains the model."
   ]
  },
  {
   "cell_type": "code",
   "execution_count": null,
   "metadata": {
    "id": "5Ms-fKMnQBEu"
   },
   "outputs": [],
   "source": [
    "model = baseline()"
   ]
  },
  {
   "cell_type": "markdown",
   "metadata": {
    "id": "GyiaFBhbzI9p"
   },
   "source": [
    "## Determine the number of trainable parameters and view the model"
   ]
  },
  {
   "cell_type": "code",
   "execution_count": null,
   "metadata": {
    "colab": {
     "base_uri": "https://localhost:8080/"
    },
    "id": "3OxKuQTCQDNC",
    "outputId": "b809b987-04f6-40d4-c69f-94ce6681a27f"
   },
   "outputs": [
    {
     "name": "stdout",
     "output_type": "stream",
     "text": [
      "Model: \"sequential_1\"\n",
      "_________________________________________________________________\n",
      "Layer (type)                 Output Shape              Param #   \n",
      "=================================================================\n",
      "dense_2 (Dense)              (None, 13)                182       \n",
      "_________________________________________________________________\n",
      "dense_3 (Dense)              (None, 1)                 14        \n",
      "=================================================================\n",
      "Total params: 196\n",
      "Trainable params: 196\n",
      "Non-trainable params: 0\n",
      "_________________________________________________________________\n"
     ]
    }
   ],
   "source": [
    "model.summary()"
   ]
  },
  {
   "cell_type": "markdown",
   "metadata": {
    "id": "0HEIR-vgUqD1"
   },
   "source": [
    "We can also view the model by plotting it. It gives a different perspective if you prefer this view. To do this we use the plot_model() function.\n",
    "\n",
    "API documentation for the plot_model() function https://www.tensorflow.org/api_docs/python/tf/keras/utils/plot_model?hl=en"
   ]
  },
  {
   "cell_type": "code",
   "execution_count": null,
   "metadata": {
    "colab": {
     "base_uri": "https://localhost:8080/",
     "height": 312
    },
    "id": "0u4Rm12cTGY4",
    "outputId": "912b6611-96bc-45d7-da83-58d17a0c8433"
   },
   "outputs": [
    {
     "data": {
      "image/png": "[encoded data removed]",
      "text/plain": [
       "<IPython.core.display.Image object>"
      ]
     },
     "execution_count": 38,
     "metadata": {
      "tags": []
     },
     "output_type": "execute_result"
    }
   ],
   "source": [
    "plot_model(model, show_shapes=True)"
   ]
  },
  {
   "cell_type": "markdown",
   "metadata": {
    "id": "uJ8KXYqYzI9k"
   },
   "source": [
    "## Train the model\n",
    "\n",
    "Now that we have the training, validation and testing features and targets we can start training the network. To do this, we make use of the .fit() function like in the previous notebook. Take a moment to explore the different outputs that are obtained when using different 'verbose' values. Look at the API (https://www.tensorflow.org/api_docs/python/tf/keras/Model#fit) to find out the different values.\n",
    "\n",
    "Something is new here. We are specifying validation data."
   ]
  },
  {
   "cell_type": "code",
   "execution_count": null,
   "metadata": {
    "colab": {
     "base_uri": "https://localhost:8080/"
    },
    "id": "kUjCbeYxzI9l",
    "outputId": "13ce137c-42e8-4a68-bb72-85ac3de6f56d"
   },
   "outputs": [
    {
     "name": "stdout",
     "output_type": "stream",
     "text": [
      "Epoch 1/20\n",
      "65/65 [==============================] - 1s 3ms/step - loss: 388.6302 - mean_squared_error: 388.6302 - val_loss: 124.6787 - val_mean_squared_error: 124.6787\n",
      "Epoch 2/20\n",
      "65/65 [==============================] - 0s 2ms/step - loss: 120.3715 - mean_squared_error: 120.3715 - val_loss: 99.9814 - val_mean_squared_error: 99.9814\n",
      "Epoch 3/20\n",
      "65/65 [==============================] - 0s 2ms/step - loss: 96.7785 - mean_squared_error: 96.7785 - val_loss: 82.0480 - val_mean_squared_error: 82.0480\n",
      "Epoch 4/20\n",
      "65/65 [==============================] - 0s 2ms/step - loss: 81.6800 - mean_squared_error: 81.6800 - val_loss: 71.8240 - val_mean_squared_error: 71.8240\n",
      "Epoch 5/20\n",
      "65/65 [==============================] - 0s 2ms/step - loss: 73.4918 - mean_squared_error: 73.4918 - val_loss: 66.1938 - val_mean_squared_error: 66.1938\n",
      "Epoch 6/20\n",
      "65/65 [==============================] - 0s 2ms/step - loss: 68.6810 - mean_squared_error: 68.6810 - val_loss: 62.6227 - val_mean_squared_error: 62.6227\n",
      "Epoch 7/20\n",
      "65/65 [==============================] - 0s 2ms/step - loss: 64.3358 - mean_squared_error: 64.3358 - val_loss: 63.1559 - val_mean_squared_error: 63.1559\n",
      "Epoch 8/20\n",
      "65/65 [==============================] - 0s 2ms/step - loss: 62.5321 - mean_squared_error: 62.5321 - val_loss: 61.0340 - val_mean_squared_error: 61.0340\n",
      "Epoch 9/20\n",
      "65/65 [==============================] - 0s 2ms/step - loss: 63.1152 - mean_squared_error: 63.1152 - val_loss: 59.2074 - val_mean_squared_error: 59.2074\n",
      "Epoch 10/20\n",
      "65/65 [==============================] - 0s 2ms/step - loss: 61.4473 - mean_squared_error: 61.4473 - val_loss: 59.0996 - val_mean_squared_error: 59.0996\n",
      "Epoch 11/20\n",
      "65/65 [==============================] - 0s 2ms/step - loss: 60.9984 - mean_squared_error: 60.9984 - val_loss: 56.5177 - val_mean_squared_error: 56.5177\n",
      "Epoch 12/20\n",
      "65/65 [==============================] - 0s 2ms/step - loss: 57.9959 - mean_squared_error: 57.9959 - val_loss: 54.5043 - val_mean_squared_error: 54.5043\n",
      "Epoch 13/20\n",
      "65/65 [==============================] - 0s 2ms/step - loss: 57.2609 - mean_squared_error: 57.2609 - val_loss: 53.9285 - val_mean_squared_error: 53.9285\n",
      "Epoch 14/20\n",
      "65/65 [==============================] - 0s 2ms/step - loss: 56.0853 - mean_squared_error: 56.0853 - val_loss: 54.4266 - val_mean_squared_error: 54.4266\n",
      "Epoch 15/20\n",
      "65/65 [==============================] - 0s 2ms/step - loss: 54.8197 - mean_squared_error: 54.8197 - val_loss: 53.2228 - val_mean_squared_error: 53.2228\n",
      "Epoch 16/20\n",
      "65/65 [==============================] - 0s 2ms/step - loss: 54.1161 - mean_squared_error: 54.1161 - val_loss: 50.6857 - val_mean_squared_error: 50.6857\n",
      "Epoch 17/20\n",
      "65/65 [==============================] - 0s 2ms/step - loss: 52.7798 - mean_squared_error: 52.7798 - val_loss: 50.9298 - val_mean_squared_error: 50.9298\n",
      "Epoch 18/20\n",
      "65/65 [==============================] - 0s 2ms/step - loss: 51.5281 - mean_squared_error: 51.5281 - val_loss: 50.2741 - val_mean_squared_error: 50.2741\n",
      "Epoch 19/20\n",
      "65/65 [==============================] - 0s 2ms/step - loss: 51.7050 - mean_squared_error: 51.7050 - val_loss: 48.4094 - val_mean_squared_error: 48.4094\n",
      "Epoch 20/20\n",
      "65/65 [==============================] - 0s 2ms/step - loss: 50.0095 - mean_squared_error: 50.0095 - val_loss: 47.3507 - val_mean_squared_error: 47.3507\n"
     ]
    }
   ],
   "source": [
    "history = model.fit(X_train, Y_train, validation_data = (X_val, Y_val), epochs=20, batch_size=5, verbose=1)"
   ]
  },
  {
   "cell_type": "markdown",
   "metadata": {
    "id": "xP-Cv2PXzI-E"
   },
   "source": [
    "## Plot the loss\n",
    "\n",
    "Something new here too, we are plotting the training and validation loss. This helps us keep an eye out for over-fitting."
   ]
  },
  {
   "cell_type": "code",
   "execution_count": null,
   "metadata": {
    "colab": {
     "base_uri": "https://localhost:8080/",
     "height": 513
    },
    "id": "mnq0p4NEzI-G",
    "outputId": "7e38326c-626c-443f-9b91-68186ae56616"
   },
   "outputs": [
    {
     "data": {
      "image/png": "[encoded data removed]",
      "text/plain": [
       "<Figure size 576x576 with 1 Axes>"
      ]
     },
     "metadata": {
      "needs_background": "light",
      "tags": []
     },
     "output_type": "display_data"
    }
   ],
   "source": [
    "plt.figure(figsize=(8, 8))\n",
    "plt.plot(history.history['mean_squared_error'], label='training mse')\n",
    "plt.plot(history.history['val_mean_squared_error'], label='validation mse', linestyle='dashed')\n",
    "plt.title('Model loss')\n",
    "plt.ylabel('Mean Squared Error')\n",
    "plt.xlabel('Epoch')\n",
    "plt.legend(loc='right')\n",
    "plt.show()"
   ]
  },
  {
   "cell_type": "markdown",
   "metadata": {
    "id": "caGYh9CHtKsu"
   },
   "source": [
    "## Predict on the validation data\n",
    "\n",
    "In the previous notebook we used the .predict() function to predict on one value. Now we can predict on multiple values."
   ]
  },
  {
   "cell_type": "code",
   "execution_count": null,
   "metadata": {
    "id": "QgtYTrVttKsv"
   },
   "outputs": [],
   "source": [
    "prediction_val = model.predict(X_val)"
   ]
  },
  {
   "cell_type": "markdown",
   "metadata": {
    "id": "p79Vqrc7tGul"
   },
   "source": [
    "## Compute the mean squared error on the validation data"
   ]
  },
  {
   "cell_type": "code",
   "execution_count": null,
   "metadata": {
    "colab": {
     "base_uri": "https://localhost:8080/"
    },
    "id": "KibxojQ_tGup",
    "outputId": "3e5c7058-9afd-43d8-f6a3-df34d0574597"
   },
   "outputs": [
    {
     "data": {
      "text/plain": [
       "47.35068105433894"
      ]
     },
     "execution_count": 42,
     "metadata": {
      "tags": []
     },
     "output_type": "execute_result"
    }
   ],
   "source": [
    "mean_squared_error(Y_val, prediction_val)"
   ]
  },
  {
   "cell_type": "markdown",
   "metadata": {
    "id": "63MqBYyAsuBp"
   },
   "source": [
    "Typically, we would explore a variety of models on the validation data. Once we have our best model on the validation data we would then evaluate the model on the testing data. Hyper-parameter tuning (i.e. figuring out the best model etc) should not be done using the testing data, we should use the validation data instead.\n",
    "\n",
    "In our case let's assume that our model is good enough and let us proceed to evaluating on the testing data."
   ]
  },
  {
   "cell_type": "markdown",
   "metadata": {
    "id": "l85BylX5zI93"
   },
   "source": [
    "## Predict on the test data"
   ]
  },
  {
   "cell_type": "code",
   "execution_count": null,
   "metadata": {
    "id": "MBpk0OtRzI95"
   },
   "outputs": [],
   "source": [
    "prediction_test = model.predict(X_test)"
   ]
  },
  {
   "cell_type": "markdown",
   "metadata": {
    "id": "4eHpGjh1zI9-"
   },
   "source": [
    "## Compute the mean squared error"
   ]
  },
  {
   "cell_type": "code",
   "execution_count": null,
   "metadata": {
    "colab": {
     "base_uri": "https://localhost:8080/"
    },
    "id": "JtqoZ6OuzI9_",
    "outputId": "eb322ba0-4f90-4619-c899-cc8cf31321c1"
   },
   "outputs": [
    {
     "data": {
      "text/plain": [
       "65.75112420058812"
      ]
     },
     "execution_count": 44,
     "metadata": {
      "tags": []
     },
     "output_type": "execute_result"
    }
   ],
   "source": [
    "mean_squared_error(Y_test, prediction_test)"
   ]
  },
  {
   "cell_type": "markdown",
   "metadata": {
    "id": "TwPSwsF1zI-U"
   },
   "source": [
    "# <hr>\n",
    "## Task Create a deeper model with more layers!\n",
    "\n",
    "* Here, your task is to create a deeper model to improve the performance compared to the baseline model presented in this notebook.\n",
    "* Do not modify the 'baseline' function. Instead, create a new Python function for your new model.  Explore the following:\n",
    "\n",
    "1) Add more dense layers.\n",
    "\n",
    "2) You will have to decide on the number of dense layers and the number of units for each one.\n",
    "\n",
    "3) Once you have created your model you can run the cells again to train the model.\n",
    "\n",
    "4) Try different things! Change the number of units in all the layers. Do you get errors? If you get errors, why do you think they are happening? Change the activation function. Do they make sense? Does ReLU make sense on this data? What about sigmoid?\n",
    "\n",
    "5) Try the Huber loss instead of mean-squared error. API: https://www.tensorflow.org/api_docs/python/tf/keras/losses/Huber which one gave a better result (MSE vs Huber)?\n",
    "\n",
    "6) Try using SGD instead of Adam optimiser."
   ]
  },
  {
   "cell_type": "markdown",
   "metadata": {
    "id": "QLPGqy7Itwb3"
   },
   "source": [
    "# References:\n",
    "\n",
    "* This notebook was adpated from Dr. Emmanuel Dufourq,  2021 Gene Golub SIAM Summer School "
   ]
  },
  {
   "cell_type": "code",
   "execution_count": null,
   "metadata": {},
   "outputs": [],
   "source": []
  }
 ],
 "metadata": {
  "colab": {
   "collapsed_sections": [],
   "name": "SIAM2021 NN Multivariate Model 2.ipynb",
   "provenance": []
  },
  "kernelspec": {
   "display_name": "Python 3 (ipykernel)",
   "language": "python",
   "name": "python3"
  },
  "language_info": {
   "codemirror_mode": {
    "name": "ipython",
    "version": 3
   },
   "file_extension": ".py",
   "mimetype": "text/x-python",
   "name": "python",
   "nbconvert_exporter": "python",
   "pygments_lexer": "ipython3",
   "version": "3.9.13"
  }
 },
 "nbformat": 4,
 "nbformat_minor": 1
}
