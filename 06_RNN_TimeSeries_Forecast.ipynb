{
 "cells": [
  {
   "cell_type": "markdown",
   "metadata": {
    "id": "E4lQTtXS_xiD"
   },
   "source": [
    "<h1 style=\"text-align: center;\"><a title=\"Data Science-AIMS-Cmr-2021-22\"> Recurrent Neural Networks for Sequential Data Modeling </h1>"
   ]
  },
  {
   "cell_type": "code",
   "execution_count": 1,
   "metadata": {
    "executionInfo": {
     "elapsed": 6734,
     "status": "ok",
     "timestamp": 1674733939516,
     "user": {
      "displayName": "Rockefeller",
      "userId": "14247310336372995288"
     },
     "user_tz": -60
    },
    "id": "8tXr8P0akatT"
   },
   "outputs": [],
   "source": [
    "import numpy as np\n",
    "np.random.seed(123)\n",
    "\n",
    "import matplotlib.pyplot as plt\n",
    "import pandas as pd\n",
    "import math\n",
    "\n",
    "import tensorflow as tf\n",
    "#tf.set_random_seed(1234)\n",
    "\n",
    "import keras\n",
    "from keras.models import Sequential\n",
    "from keras.layers import Dense\n",
    "from keras.layers import LSTM, SimpleRNN\n",
    "from sklearn.metrics import mean_squared_error\n",
    "\n",
    "%matplotlib inline"
   ]
  },
  {
   "cell_type": "markdown",
   "metadata": {
    "id": "vsWKUehRkatU"
   },
   "source": [
    "Let's start by print out the versions of the libraries we're using for future reference"
   ]
  },
  {
   "cell_type": "markdown",
   "metadata": {
    "id": "HpLdaiGukatV"
   },
   "source": [
    "# Create dataset"
   ]
  },
  {
   "cell_type": "markdown",
   "metadata": {
    "id": "rtQjhlRcQHs7"
   },
   "source": [
    "For simplicity sake, let's assume this is your dataset. If you understand how the partition works in 1D (univariate case), scaling it to multivariate case will use the same logic. "
   ]
  },
  {
   "cell_type": "code",
   "execution_count": 2,
   "metadata": {
    "colab": {
     "base_uri": "https://localhost:8080/"
    },
    "executionInfo": {
     "elapsed": 17,
     "status": "ok",
     "timestamp": 1674733939516,
     "user": {
      "displayName": "Rockefeller",
      "userId": "14247310336372995288"
     },
     "user_tz": -60
    },
    "id": "jPNCcK_JPhVU",
    "outputId": "f3536340-4f87-4151-fe23-b8a0abb49202"
   },
   "outputs": [
    {
     "data": {
      "text/plain": [
       "array([ 0,  1,  2,  3,  4,  5,  6,  7,  8,  9, 10, 11, 12, 13, 14, 15, 16,\n",
       "       17, 18, 19])"
      ]
     },
     "execution_count": 2,
     "metadata": {},
     "output_type": "execute_result"
    }
   ],
   "source": [
    "my_ts = np.arange(20)\n",
    "my_ts"
   ]
  },
  {
   "cell_type": "code",
   "execution_count": 3,
   "metadata": {
    "colab": {
     "base_uri": "https://localhost:8080/",
     "height": 614
    },
    "executionInfo": {
     "elapsed": 7,
     "status": "ok",
     "timestamp": 1674733968398,
     "user": {
      "displayName": "Rockefeller",
      "userId": "14247310336372995288"
     },
     "user_tz": -60
    },
    "id": "dp8WbN2NP0rB",
    "outputId": "37a514c9-9c9b-4dce-cb76-eda3819c3adb"
   },
   "outputs": [
    {
     "data": {
      "text/html": [
       "\n",
       "  <div id=\"df-63f201fb-e436-4a99-8777-4b6f7fb4033b\">\n",
       "    <div class=\"colab-df-container\">\n",
       "      <div>\n",
       "<style scoped>\n",
       "    .dataframe tbody tr th:only-of-type {\n",
       "        vertical-align: middle;\n",
       "    }\n",
       "\n",
       "    .dataframe tbody tr th {\n",
       "        vertical-align: top;\n",
       "    }\n",
       "\n",
       "    .dataframe thead th {\n",
       "        text-align: right;\n",
       "    }\n",
       "</style>\n",
       "<table border=\"1\" class=\"dataframe\">\n",
       "  <thead>\n",
       "    <tr style=\"text-align: right;\">\n",
       "      <th></th>\n",
       "      <th>t-2</th>\n",
       "      <th>t-1</th>\n",
       "      <th>t</th>\n",
       "    </tr>\n",
       "  </thead>\n",
       "  <tbody>\n",
       "    <tr>\n",
       "      <th>2</th>\n",
       "      <td>0.0</td>\n",
       "      <td>1.0</td>\n",
       "      <td>2</td>\n",
       "    </tr>\n",
       "    <tr>\n",
       "      <th>3</th>\n",
       "      <td>1.0</td>\n",
       "      <td>2.0</td>\n",
       "      <td>3</td>\n",
       "    </tr>\n",
       "    <tr>\n",
       "      <th>4</th>\n",
       "      <td>2.0</td>\n",
       "      <td>3.0</td>\n",
       "      <td>4</td>\n",
       "    </tr>\n",
       "    <tr>\n",
       "      <th>5</th>\n",
       "      <td>3.0</td>\n",
       "      <td>4.0</td>\n",
       "      <td>5</td>\n",
       "    </tr>\n",
       "    <tr>\n",
       "      <th>6</th>\n",
       "      <td>4.0</td>\n",
       "      <td>5.0</td>\n",
       "      <td>6</td>\n",
       "    </tr>\n",
       "    <tr>\n",
       "      <th>7</th>\n",
       "      <td>5.0</td>\n",
       "      <td>6.0</td>\n",
       "      <td>7</td>\n",
       "    </tr>\n",
       "    <tr>\n",
       "      <th>8</th>\n",
       "      <td>6.0</td>\n",
       "      <td>7.0</td>\n",
       "      <td>8</td>\n",
       "    </tr>\n",
       "    <tr>\n",
       "      <th>9</th>\n",
       "      <td>7.0</td>\n",
       "      <td>8.0</td>\n",
       "      <td>9</td>\n",
       "    </tr>\n",
       "    <tr>\n",
       "      <th>10</th>\n",
       "      <td>8.0</td>\n",
       "      <td>9.0</td>\n",
       "      <td>10</td>\n",
       "    </tr>\n",
       "    <tr>\n",
       "      <th>11</th>\n",
       "      <td>9.0</td>\n",
       "      <td>10.0</td>\n",
       "      <td>11</td>\n",
       "    </tr>\n",
       "    <tr>\n",
       "      <th>12</th>\n",
       "      <td>10.0</td>\n",
       "      <td>11.0</td>\n",
       "      <td>12</td>\n",
       "    </tr>\n",
       "    <tr>\n",
       "      <th>13</th>\n",
       "      <td>11.0</td>\n",
       "      <td>12.0</td>\n",
       "      <td>13</td>\n",
       "    </tr>\n",
       "    <tr>\n",
       "      <th>14</th>\n",
       "      <td>12.0</td>\n",
       "      <td>13.0</td>\n",
       "      <td>14</td>\n",
       "    </tr>\n",
       "    <tr>\n",
       "      <th>15</th>\n",
       "      <td>13.0</td>\n",
       "      <td>14.0</td>\n",
       "      <td>15</td>\n",
       "    </tr>\n",
       "    <tr>\n",
       "      <th>16</th>\n",
       "      <td>14.0</td>\n",
       "      <td>15.0</td>\n",
       "      <td>16</td>\n",
       "    </tr>\n",
       "    <tr>\n",
       "      <th>17</th>\n",
       "      <td>15.0</td>\n",
       "      <td>16.0</td>\n",
       "      <td>17</td>\n",
       "    </tr>\n",
       "    <tr>\n",
       "      <th>18</th>\n",
       "      <td>16.0</td>\n",
       "      <td>17.0</td>\n",
       "      <td>18</td>\n",
       "    </tr>\n",
       "    <tr>\n",
       "      <th>19</th>\n",
       "      <td>17.0</td>\n",
       "      <td>18.0</td>\n",
       "      <td>19</td>\n",
       "    </tr>\n",
       "  </tbody>\n",
       "</table>\n",
       "</div>\n",
       "      <button class=\"colab-df-convert\" onclick=\"convertToInteractive('df-63f201fb-e436-4a99-8777-4b6f7fb4033b')\"\n",
       "              title=\"Convert this dataframe to an interactive table.\"\n",
       "              style=\"display:none;\">\n",
       "        \n",
       "  <svg xmlns=\"http://www.w3.org/2000/svg\" height=\"24px\"viewBox=\"0 0 24 24\"\n",
       "       width=\"24px\">\n",
       "    <path d=\"M0 0h24v24H0V0z\" fill=\"none\"/>\n",
       "    <path d=\"M18.56 5.44l.94 2.06.94-2.06 2.06-.94-2.06-.94-.94-2.06-.94 2.06-2.06.94zm-11 1L8.5 8.5l.94-2.06 2.06-.94-2.06-.94L8.5 2.5l-.94 2.06-2.06.94zm10 10l.94 2.06.94-2.06 2.06-.94-2.06-.94-.94-2.06-.94 2.06-2.06.94z\"/><path d=\"M17.41 7.96l-1.37-1.37c-.4-.4-.92-.59-1.43-.59-.52 0-1.04.2-1.43.59L10.3 9.45l-7.72 7.72c-.78.78-.78 2.05 0 2.83L4 21.41c.39.39.9.59 1.41.59.51 0 1.02-.2 1.41-.59l7.78-7.78 2.81-2.81c.8-.78.8-2.07 0-2.86zM5.41 20L4 18.59l7.72-7.72 1.47 1.35L5.41 20z\"/>\n",
       "  </svg>\n",
       "      </button>\n",
       "      \n",
       "  <style>\n",
       "    .colab-df-container {\n",
       "      display:flex;\n",
       "      flex-wrap:wrap;\n",
       "      gap: 12px;\n",
       "    }\n",
       "\n",
       "    .colab-df-convert {\n",
       "      background-color: #E8F0FE;\n",
       "      border: none;\n",
       "      border-radius: 50%;\n",
       "      cursor: pointer;\n",
       "      display: none;\n",
       "      fill: #1967D2;\n",
       "      height: 32px;\n",
       "      padding: 0 0 0 0;\n",
       "      width: 32px;\n",
       "    }\n",
       "\n",
       "    .colab-df-convert:hover {\n",
       "      background-color: #E2EBFA;\n",
       "      box-shadow: 0px 1px 2px rgba(60, 64, 67, 0.3), 0px 1px 3px 1px rgba(60, 64, 67, 0.15);\n",
       "      fill: #174EA6;\n",
       "    }\n",
       "\n",
       "    [theme=dark] .colab-df-convert {\n",
       "      background-color: #3B4455;\n",
       "      fill: #D2E3FC;\n",
       "    }\n",
       "\n",
       "    [theme=dark] .colab-df-convert:hover {\n",
       "      background-color: #434B5C;\n",
       "      box-shadow: 0px 1px 3px 1px rgba(0, 0, 0, 0.15);\n",
       "      filter: drop-shadow(0px 1px 2px rgba(0, 0, 0, 0.3));\n",
       "      fill: #FFFFFF;\n",
       "    }\n",
       "  </style>\n",
       "\n",
       "      <script>\n",
       "        const buttonEl =\n",
       "          document.querySelector('#df-63f201fb-e436-4a99-8777-4b6f7fb4033b button.colab-df-convert');\n",
       "        buttonEl.style.display =\n",
       "          google.colab.kernel.accessAllowed ? 'block' : 'none';\n",
       "\n",
       "        async function convertToInteractive(key) {\n",
       "          const element = document.querySelector('#df-63f201fb-e436-4a99-8777-4b6f7fb4033b');\n",
       "          const dataTable =\n",
       "            await google.colab.kernel.invokeFunction('convertToInteractive',\n",
       "                                                     [key], {});\n",
       "          if (!dataTable) return;\n",
       "\n",
       "          const docLinkHtml = 'Like what you see? Visit the ' +\n",
       "            '<a target=\"_blank\" href=https://colab.research.google.com/notebooks/data_table.ipynb>data table notebook</a>'\n",
       "            + ' to learn more about interactive tables.';\n",
       "          element.innerHTML = '';\n",
       "          dataTable['output_type'] = 'display_data';\n",
       "          await google.colab.output.renderOutput(dataTable, element);\n",
       "          const docLink = document.createElement('div');\n",
       "          docLink.innerHTML = docLinkHtml;\n",
       "          element.appendChild(docLink);\n",
       "        }\n",
       "      </script>\n",
       "    </div>\n",
       "  </div>\n",
       "  "
      ],
      "text/plain": [
       "     t-2   t-1   t\n",
       "2    0.0   1.0   2\n",
       "3    1.0   2.0   3\n",
       "4    2.0   3.0   4\n",
       "5    3.0   4.0   5\n",
       "6    4.0   5.0   6\n",
       "7    5.0   6.0   7\n",
       "8    6.0   7.0   8\n",
       "9    7.0   8.0   9\n",
       "10   8.0   9.0  10\n",
       "11   9.0  10.0  11\n",
       "12  10.0  11.0  12\n",
       "13  11.0  12.0  13\n",
       "14  12.0  13.0  14\n",
       "15  13.0  14.0  15\n",
       "16  14.0  15.0  16\n",
       "17  15.0  16.0  17\n",
       "18  16.0  17.0  18\n",
       "19  17.0  18.0  19"
      ]
     },
     "execution_count": 3,
     "metadata": {},
     "output_type": "execute_result"
    }
   ],
   "source": [
    "fake_values = pd.DataFrame(my_ts)\n",
    "\n",
    "fake_df = pd.concat([fake_values.shift(2), fake_values.shift(1), fake_values.shift(0)], axis=1)\n",
    "fake_df.columns = ['t-2', 't-1', 't']\n",
    "fake_df = fake_df.dropna(how= 'any')\n",
    "fake_df"
   ]
  },
  {
   "cell_type": "code",
   "execution_count": 4,
   "metadata": {
    "executionInfo": {
     "elapsed": 663,
     "status": "ok",
     "timestamp": 1674733998189,
     "user": {
      "displayName": "Rockefeller",
      "userId": "14247310336372995288"
     },
     "user_tz": -60
    },
    "id": "3zjiR7CcP87X"
   },
   "outputs": [],
   "source": [
    "def partition_data(your_ts, look_back):\n",
    "    data_frame  =pd.DataFrame(your_ts)\n",
    "    stretched_data =pd.concat([data_frame.shift(i) for i in reversed(range(look_back+1))], axis=1)\n",
    "    stretched_data = stretched_data.dropna(how= 'any')\n",
    "    col_names = ['t-'+str(ind_) for ind_ in reversed(range(look_back+1))]\n",
    "    col_names[-1] = 't'\n",
    "    stretched_data.columns  = col_names\n",
    "    return stretched_data"
   ]
  },
  {
   "cell_type": "code",
   "execution_count": 5,
   "metadata": {
    "colab": {
     "base_uri": "https://localhost:8080/",
     "height": 551
    },
    "executionInfo": {
     "elapsed": 765,
     "status": "ok",
     "timestamp": 1674734006268,
     "user": {
      "displayName": "Rockefeller",
      "userId": "14247310336372995288"
     },
     "user_tz": -60
    },
    "id": "E9Sye-D3QlAh",
    "outputId": "aebaab8a-9c2f-414e-e1b2-82bfbd2291c8"
   },
   "outputs": [
    {
     "data": {
      "text/html": [
       "\n",
       "  <div id=\"df-ae20c3a4-6fae-4a5a-a4d9-daafac39ab1e\">\n",
       "    <div class=\"colab-df-container\">\n",
       "      <div>\n",
       "<style scoped>\n",
       "    .dataframe tbody tr th:only-of-type {\n",
       "        vertical-align: middle;\n",
       "    }\n",
       "\n",
       "    .dataframe tbody tr th {\n",
       "        vertical-align: top;\n",
       "    }\n",
       "\n",
       "    .dataframe thead th {\n",
       "        text-align: right;\n",
       "    }\n",
       "</style>\n",
       "<table border=\"1\" class=\"dataframe\">\n",
       "  <thead>\n",
       "    <tr style=\"text-align: right;\">\n",
       "      <th></th>\n",
       "      <th>t-4</th>\n",
       "      <th>t-3</th>\n",
       "      <th>t-2</th>\n",
       "      <th>t-1</th>\n",
       "      <th>t</th>\n",
       "    </tr>\n",
       "  </thead>\n",
       "  <tbody>\n",
       "    <tr>\n",
       "      <th>4</th>\n",
       "      <td>0.0</td>\n",
       "      <td>1.0</td>\n",
       "      <td>2.0</td>\n",
       "      <td>3.0</td>\n",
       "      <td>4</td>\n",
       "    </tr>\n",
       "    <tr>\n",
       "      <th>5</th>\n",
       "      <td>1.0</td>\n",
       "      <td>2.0</td>\n",
       "      <td>3.0</td>\n",
       "      <td>4.0</td>\n",
       "      <td>5</td>\n",
       "    </tr>\n",
       "    <tr>\n",
       "      <th>6</th>\n",
       "      <td>2.0</td>\n",
       "      <td>3.0</td>\n",
       "      <td>4.0</td>\n",
       "      <td>5.0</td>\n",
       "      <td>6</td>\n",
       "    </tr>\n",
       "    <tr>\n",
       "      <th>7</th>\n",
       "      <td>3.0</td>\n",
       "      <td>4.0</td>\n",
       "      <td>5.0</td>\n",
       "      <td>6.0</td>\n",
       "      <td>7</td>\n",
       "    </tr>\n",
       "    <tr>\n",
       "      <th>8</th>\n",
       "      <td>4.0</td>\n",
       "      <td>5.0</td>\n",
       "      <td>6.0</td>\n",
       "      <td>7.0</td>\n",
       "      <td>8</td>\n",
       "    </tr>\n",
       "    <tr>\n",
       "      <th>9</th>\n",
       "      <td>5.0</td>\n",
       "      <td>6.0</td>\n",
       "      <td>7.0</td>\n",
       "      <td>8.0</td>\n",
       "      <td>9</td>\n",
       "    </tr>\n",
       "    <tr>\n",
       "      <th>10</th>\n",
       "      <td>6.0</td>\n",
       "      <td>7.0</td>\n",
       "      <td>8.0</td>\n",
       "      <td>9.0</td>\n",
       "      <td>10</td>\n",
       "    </tr>\n",
       "    <tr>\n",
       "      <th>11</th>\n",
       "      <td>7.0</td>\n",
       "      <td>8.0</td>\n",
       "      <td>9.0</td>\n",
       "      <td>10.0</td>\n",
       "      <td>11</td>\n",
       "    </tr>\n",
       "    <tr>\n",
       "      <th>12</th>\n",
       "      <td>8.0</td>\n",
       "      <td>9.0</td>\n",
       "      <td>10.0</td>\n",
       "      <td>11.0</td>\n",
       "      <td>12</td>\n",
       "    </tr>\n",
       "    <tr>\n",
       "      <th>13</th>\n",
       "      <td>9.0</td>\n",
       "      <td>10.0</td>\n",
       "      <td>11.0</td>\n",
       "      <td>12.0</td>\n",
       "      <td>13</td>\n",
       "    </tr>\n",
       "    <tr>\n",
       "      <th>14</th>\n",
       "      <td>10.0</td>\n",
       "      <td>11.0</td>\n",
       "      <td>12.0</td>\n",
       "      <td>13.0</td>\n",
       "      <td>14</td>\n",
       "    </tr>\n",
       "    <tr>\n",
       "      <th>15</th>\n",
       "      <td>11.0</td>\n",
       "      <td>12.0</td>\n",
       "      <td>13.0</td>\n",
       "      <td>14.0</td>\n",
       "      <td>15</td>\n",
       "    </tr>\n",
       "    <tr>\n",
       "      <th>16</th>\n",
       "      <td>12.0</td>\n",
       "      <td>13.0</td>\n",
       "      <td>14.0</td>\n",
       "      <td>15.0</td>\n",
       "      <td>16</td>\n",
       "    </tr>\n",
       "    <tr>\n",
       "      <th>17</th>\n",
       "      <td>13.0</td>\n",
       "      <td>14.0</td>\n",
       "      <td>15.0</td>\n",
       "      <td>16.0</td>\n",
       "      <td>17</td>\n",
       "    </tr>\n",
       "    <tr>\n",
       "      <th>18</th>\n",
       "      <td>14.0</td>\n",
       "      <td>15.0</td>\n",
       "      <td>16.0</td>\n",
       "      <td>17.0</td>\n",
       "      <td>18</td>\n",
       "    </tr>\n",
       "    <tr>\n",
       "      <th>19</th>\n",
       "      <td>15.0</td>\n",
       "      <td>16.0</td>\n",
       "      <td>17.0</td>\n",
       "      <td>18.0</td>\n",
       "      <td>19</td>\n",
       "    </tr>\n",
       "  </tbody>\n",
       "</table>\n",
       "</div>\n",
       "      <button class=\"colab-df-convert\" onclick=\"convertToInteractive('df-ae20c3a4-6fae-4a5a-a4d9-daafac39ab1e')\"\n",
       "              title=\"Convert this dataframe to an interactive table.\"\n",
       "              style=\"display:none;\">\n",
       "        \n",
       "  <svg xmlns=\"http://www.w3.org/2000/svg\" height=\"24px\"viewBox=\"0 0 24 24\"\n",
       "       width=\"24px\">\n",
       "    <path d=\"M0 0h24v24H0V0z\" fill=\"none\"/>\n",
       "    <path d=\"M18.56 5.44l.94 2.06.94-2.06 2.06-.94-2.06-.94-.94-2.06-.94 2.06-2.06.94zm-11 1L8.5 8.5l.94-2.06 2.06-.94-2.06-.94L8.5 2.5l-.94 2.06-2.06.94zm10 10l.94 2.06.94-2.06 2.06-.94-2.06-.94-.94-2.06-.94 2.06-2.06.94z\"/><path d=\"M17.41 7.96l-1.37-1.37c-.4-.4-.92-.59-1.43-.59-.52 0-1.04.2-1.43.59L10.3 9.45l-7.72 7.72c-.78.78-.78 2.05 0 2.83L4 21.41c.39.39.9.59 1.41.59.51 0 1.02-.2 1.41-.59l7.78-7.78 2.81-2.81c.8-.78.8-2.07 0-2.86zM5.41 20L4 18.59l7.72-7.72 1.47 1.35L5.41 20z\"/>\n",
       "  </svg>\n",
       "      </button>\n",
       "      \n",
       "  <style>\n",
       "    .colab-df-container {\n",
       "      display:flex;\n",
       "      flex-wrap:wrap;\n",
       "      gap: 12px;\n",
       "    }\n",
       "\n",
       "    .colab-df-convert {\n",
       "      background-color: #E8F0FE;\n",
       "      border: none;\n",
       "      border-radius: 50%;\n",
       "      cursor: pointer;\n",
       "      display: none;\n",
       "      fill: #1967D2;\n",
       "      height: 32px;\n",
       "      padding: 0 0 0 0;\n",
       "      width: 32px;\n",
       "    }\n",
       "\n",
       "    .colab-df-convert:hover {\n",
       "      background-color: #E2EBFA;\n",
       "      box-shadow: 0px 1px 2px rgba(60, 64, 67, 0.3), 0px 1px 3px 1px rgba(60, 64, 67, 0.15);\n",
       "      fill: #174EA6;\n",
       "    }\n",
       "\n",
       "    [theme=dark] .colab-df-convert {\n",
       "      background-color: #3B4455;\n",
       "      fill: #D2E3FC;\n",
       "    }\n",
       "\n",
       "    [theme=dark] .colab-df-convert:hover {\n",
       "      background-color: #434B5C;\n",
       "      box-shadow: 0px 1px 3px 1px rgba(0, 0, 0, 0.15);\n",
       "      filter: drop-shadow(0px 1px 2px rgba(0, 0, 0, 0.3));\n",
       "      fill: #FFFFFF;\n",
       "    }\n",
       "  </style>\n",
       "\n",
       "      <script>\n",
       "        const buttonEl =\n",
       "          document.querySelector('#df-ae20c3a4-6fae-4a5a-a4d9-daafac39ab1e button.colab-df-convert');\n",
       "        buttonEl.style.display =\n",
       "          google.colab.kernel.accessAllowed ? 'block' : 'none';\n",
       "\n",
       "        async function convertToInteractive(key) {\n",
       "          const element = document.querySelector('#df-ae20c3a4-6fae-4a5a-a4d9-daafac39ab1e');\n",
       "          const dataTable =\n",
       "            await google.colab.kernel.invokeFunction('convertToInteractive',\n",
       "                                                     [key], {});\n",
       "          if (!dataTable) return;\n",
       "\n",
       "          const docLinkHtml = 'Like what you see? Visit the ' +\n",
       "            '<a target=\"_blank\" href=https://colab.research.google.com/notebooks/data_table.ipynb>data table notebook</a>'\n",
       "            + ' to learn more about interactive tables.';\n",
       "          element.innerHTML = '';\n",
       "          dataTable['output_type'] = 'display_data';\n",
       "          await google.colab.output.renderOutput(dataTable, element);\n",
       "          const docLink = document.createElement('div');\n",
       "          docLink.innerHTML = docLinkHtml;\n",
       "          element.appendChild(docLink);\n",
       "        }\n",
       "      </script>\n",
       "    </div>\n",
       "  </div>\n",
       "  "
      ],
      "text/plain": [
       "     t-4   t-3   t-2   t-1   t\n",
       "4    0.0   1.0   2.0   3.0   4\n",
       "5    1.0   2.0   3.0   4.0   5\n",
       "6    2.0   3.0   4.0   5.0   6\n",
       "7    3.0   4.0   5.0   6.0   7\n",
       "8    4.0   5.0   6.0   7.0   8\n",
       "9    5.0   6.0   7.0   8.0   9\n",
       "10   6.0   7.0   8.0   9.0  10\n",
       "11   7.0   8.0   9.0  10.0  11\n",
       "12   8.0   9.0  10.0  11.0  12\n",
       "13   9.0  10.0  11.0  12.0  13\n",
       "14  10.0  11.0  12.0  13.0  14\n",
       "15  11.0  12.0  13.0  14.0  15\n",
       "16  12.0  13.0  14.0  15.0  16\n",
       "17  13.0  14.0  15.0  16.0  17\n",
       "18  14.0  15.0  16.0  17.0  18\n",
       "19  15.0  16.0  17.0  18.0  19"
      ]
     },
     "execution_count": 5,
     "metadata": {},
     "output_type": "execute_result"
    }
   ],
   "source": [
    "df_new =   partition_data(my_ts, 4)\n",
    "df_new"
   ]
  },
  {
   "cell_type": "code",
   "execution_count": 6,
   "metadata": {
    "executionInfo": {
     "elapsed": 683,
     "status": "ok",
     "timestamp": 1674734059286,
     "user": {
      "displayName": "Rockefeller",
      "userId": "14247310336372995288"
     },
     "user_tz": -60
    },
    "id": "wvXkPAKnPXZI"
   },
   "outputs": [],
   "source": [
    "def data_windowing(data_series,window_size):\n",
    "    \"\"\"before you use this function, rearrange your data under the format (samples, features)\"\"\"\n",
    "    x = []\n",
    "    y = []\n",
    "    L = len(data_series)\n",
    "    \n",
    "    for i in range(L-window_size):\n",
    "        window = data_series[i:i+window_size]\n",
    "        label = data_series[i+window_size:i+window_size+1]\n",
    "        x.append(window)\n",
    "        y.append(label)\n",
    "    \n",
    "    return np.array(x),np.array(y)"
   ]
  },
  {
   "cell_type": "code",
   "execution_count": 7,
   "metadata": {
    "colab": {
     "base_uri": "https://localhost:8080/"
    },
    "executionInfo": {
     "elapsed": 5,
     "status": "ok",
     "timestamp": 1674734061852,
     "user": {
      "displayName": "Rockefeller",
      "userId": "14247310336372995288"
     },
     "user_tz": -60
    },
    "id": "IsQKMSzWSKKE",
    "outputId": "6f716e3e-6463-4a1a-a310-c7f9599dce95"
   },
   "outputs": [
    {
     "data": {
      "text/plain": [
       "array([[ 0,  1],\n",
       "       [ 2,  3],\n",
       "       [ 4,  5],\n",
       "       [ 6,  7],\n",
       "       [ 8,  9],\n",
       "       [10, 11],\n",
       "       [12, 13],\n",
       "       [14, 15],\n",
       "       [16, 17],\n",
       "       [18, 19]])"
      ]
     },
     "execution_count": 7,
     "metadata": {},
     "output_type": "execute_result"
    }
   ],
   "source": [
    "my_ts =  my_ts.reshape(10,2)\n",
    "my_ts"
   ]
  },
  {
   "cell_type": "code",
   "execution_count": 8,
   "metadata": {
    "executionInfo": {
     "elapsed": 745,
     "status": "ok",
     "timestamp": 1674734077384,
     "user": {
      "displayName": "Rockefeller",
      "userId": "14247310336372995288"
     },
     "user_tz": -60
    },
    "id": "D1V2fNnfR7ej"
   },
   "outputs": [],
   "source": [
    "X , y = data_windowing(my_ts, 4)"
   ]
  },
  {
   "cell_type": "code",
   "execution_count": 9,
   "metadata": {
    "colab": {
     "base_uri": "https://localhost:8080/"
    },
    "executionInfo": {
     "elapsed": 4,
     "status": "ok",
     "timestamp": 1674734078095,
     "user": {
      "displayName": "Rockefeller",
      "userId": "14247310336372995288"
     },
     "user_tz": -60
    },
    "id": "6mtVWakGR6Bp",
    "outputId": "c3972ff0-17a2-42d0-d2d5-ecda8d2cc9bc"
   },
   "outputs": [
    {
     "data": {
      "text/plain": [
       "array([[[ 0,  1],\n",
       "        [ 2,  3],\n",
       "        [ 4,  5],\n",
       "        [ 6,  7]],\n",
       "\n",
       "       [[ 2,  3],\n",
       "        [ 4,  5],\n",
       "        [ 6,  7],\n",
       "        [ 8,  9]],\n",
       "\n",
       "       [[ 4,  5],\n",
       "        [ 6,  7],\n",
       "        [ 8,  9],\n",
       "        [10, 11]],\n",
       "\n",
       "       [[ 6,  7],\n",
       "        [ 8,  9],\n",
       "        [10, 11],\n",
       "        [12, 13]],\n",
       "\n",
       "       [[ 8,  9],\n",
       "        [10, 11],\n",
       "        [12, 13],\n",
       "        [14, 15]],\n",
       "\n",
       "       [[10, 11],\n",
       "        [12, 13],\n",
       "        [14, 15],\n",
       "        [16, 17]]])"
      ]
     },
     "execution_count": 9,
     "metadata": {},
     "output_type": "execute_result"
    }
   ],
   "source": [
    "X"
   ]
  },
  {
   "cell_type": "code",
   "execution_count": 10,
   "metadata": {
    "colab": {
     "base_uri": "https://localhost:8080/"
    },
    "executionInfo": {
     "elapsed": 6,
     "status": "ok",
     "timestamp": 1674734086377,
     "user": {
      "displayName": "Rockefeller",
      "userId": "14247310336372995288"
     },
     "user_tz": -60
    },
    "id": "tqKWTPcTPXUn",
    "outputId": "87ea9b19-be4b-4a4a-d90e-2cfc031edd0c"
   },
   "outputs": [
    {
     "data": {
      "text/plain": [
       "array([[[ 8,  9]],\n",
       "\n",
       "       [[10, 11]],\n",
       "\n",
       "       [[12, 13]],\n",
       "\n",
       "       [[14, 15]],\n",
       "\n",
       "       [[16, 17]],\n",
       "\n",
       "       [[18, 19]]])"
      ]
     },
     "execution_count": 10,
     "metadata": {},
     "output_type": "execute_result"
    }
   ],
   "source": [
    "y"
   ]
  },
  {
   "cell_type": "code",
   "execution_count": null,
   "metadata": {
    "id": "VdqSZ8iuSkiG"
   },
   "outputs": [],
   "source": [
    "print(\"the input shape\" , X.shape )\n",
    "print(\"the output shape\" , y.shape)"
   ]
  },
  {
   "cell_type": "markdown",
   "metadata": {
    "id": "c-sEp1seTALH"
   },
   "source": [
    "Let's use some real data to fit our first RNN Model"
   ]
  },
  {
   "cell_type": "code",
   "execution_count": 17,
   "metadata": {
    "colab": {
     "base_uri": "https://localhost:8080/",
     "height": 424
    },
    "executionInfo": {
     "elapsed": 5,
     "status": "ok",
     "timestamp": 1674734228548,
     "user": {
      "displayName": "Rockefeller",
      "userId": "14247310336372995288"
     },
     "user_tz": -60
    },
    "id": "wjmmuCqXS_4d",
    "outputId": "945e0ee1-10f1-4c7f-c526-beb2efed6949"
   },
   "outputs": [
    {
     "data": {
      "text/html": [
       "\n",
       "  <div id=\"df-2b8dfcb7-9307-475c-abcc-1827668c9c7f\">\n",
       "    <div class=\"colab-df-container\">\n",
       "      <div>\n",
       "<style scoped>\n",
       "    .dataframe tbody tr th:only-of-type {\n",
       "        vertical-align: middle;\n",
       "    }\n",
       "\n",
       "    .dataframe tbody tr th {\n",
       "        vertical-align: top;\n",
       "    }\n",
       "\n",
       "    .dataframe thead th {\n",
       "        text-align: right;\n",
       "    }\n",
       "</style>\n",
       "<table border=\"1\" class=\"dataframe\">\n",
       "  <thead>\n",
       "    <tr style=\"text-align: right;\">\n",
       "      <th></th>\n",
       "      <th>X</th>\n",
       "      <th>y</th>\n",
       "    </tr>\n",
       "  </thead>\n",
       "  <tbody>\n",
       "    <tr>\n",
       "      <th>0</th>\n",
       "      <td>0</td>\n",
       "      <td>0.000000</td>\n",
       "    </tr>\n",
       "    <tr>\n",
       "      <th>1</th>\n",
       "      <td>1</td>\n",
       "      <td>0.309017</td>\n",
       "    </tr>\n",
       "    <tr>\n",
       "      <th>2</th>\n",
       "      <td>2</td>\n",
       "      <td>0.587785</td>\n",
       "    </tr>\n",
       "    <tr>\n",
       "      <th>3</th>\n",
       "      <td>3</td>\n",
       "      <td>0.809017</td>\n",
       "    </tr>\n",
       "    <tr>\n",
       "      <th>4</th>\n",
       "      <td>4</td>\n",
       "      <td>0.951057</td>\n",
       "    </tr>\n",
       "    <tr>\n",
       "      <th>...</th>\n",
       "      <td>...</td>\n",
       "      <td>...</td>\n",
       "    </tr>\n",
       "    <tr>\n",
       "      <th>355</th>\n",
       "      <td>355</td>\n",
       "      <td>-1.000000</td>\n",
       "    </tr>\n",
       "    <tr>\n",
       "      <th>356</th>\n",
       "      <td>356</td>\n",
       "      <td>-0.951057</td>\n",
       "    </tr>\n",
       "    <tr>\n",
       "      <th>357</th>\n",
       "      <td>357</td>\n",
       "      <td>-0.809017</td>\n",
       "    </tr>\n",
       "    <tr>\n",
       "      <th>358</th>\n",
       "      <td>358</td>\n",
       "      <td>-0.587785</td>\n",
       "    </tr>\n",
       "    <tr>\n",
       "      <th>359</th>\n",
       "      <td>359</td>\n",
       "      <td>-0.309017</td>\n",
       "    </tr>\n",
       "  </tbody>\n",
       "</table>\n",
       "<p>360 rows × 2 columns</p>\n",
       "</div>\n",
       "      <button class=\"colab-df-convert\" onclick=\"convertToInteractive('df-2b8dfcb7-9307-475c-abcc-1827668c9c7f')\"\n",
       "              title=\"Convert this dataframe to an interactive table.\"\n",
       "              style=\"display:none;\">\n",
       "        \n",
       "  <svg xmlns=\"http://www.w3.org/2000/svg\" height=\"24px\"viewBox=\"0 0 24 24\"\n",
       "       width=\"24px\">\n",
       "    <path d=\"M0 0h24v24H0V0z\" fill=\"none\"/>\n",
       "    <path d=\"M18.56 5.44l.94 2.06.94-2.06 2.06-.94-2.06-.94-.94-2.06-.94 2.06-2.06.94zm-11 1L8.5 8.5l.94-2.06 2.06-.94-2.06-.94L8.5 2.5l-.94 2.06-2.06.94zm10 10l.94 2.06.94-2.06 2.06-.94-2.06-.94-.94-2.06-.94 2.06-2.06.94z\"/><path d=\"M17.41 7.96l-1.37-1.37c-.4-.4-.92-.59-1.43-.59-.52 0-1.04.2-1.43.59L10.3 9.45l-7.72 7.72c-.78.78-.78 2.05 0 2.83L4 21.41c.39.39.9.59 1.41.59.51 0 1.02-.2 1.41-.59l7.78-7.78 2.81-2.81c.8-.78.8-2.07 0-2.86zM5.41 20L4 18.59l7.72-7.72 1.47 1.35L5.41 20z\"/>\n",
       "  </svg>\n",
       "      </button>\n",
       "      \n",
       "  <style>\n",
       "    .colab-df-container {\n",
       "      display:flex;\n",
       "      flex-wrap:wrap;\n",
       "      gap: 12px;\n",
       "    }\n",
       "\n",
       "    .colab-df-convert {\n",
       "      background-color: #E8F0FE;\n",
       "      border: none;\n",
       "      border-radius: 50%;\n",
       "      cursor: pointer;\n",
       "      display: none;\n",
       "      fill: #1967D2;\n",
       "      height: 32px;\n",
       "      padding: 0 0 0 0;\n",
       "      width: 32px;\n",
       "    }\n",
       "\n",
       "    .colab-df-convert:hover {\n",
       "      background-color: #E2EBFA;\n",
       "      box-shadow: 0px 1px 2px rgba(60, 64, 67, 0.3), 0px 1px 3px 1px rgba(60, 64, 67, 0.15);\n",
       "      fill: #174EA6;\n",
       "    }\n",
       "\n",
       "    [theme=dark] .colab-df-convert {\n",
       "      background-color: #3B4455;\n",
       "      fill: #D2E3FC;\n",
       "    }\n",
       "\n",
       "    [theme=dark] .colab-df-convert:hover {\n",
       "      background-color: #434B5C;\n",
       "      box-shadow: 0px 1px 3px 1px rgba(0, 0, 0, 0.15);\n",
       "      filter: drop-shadow(0px 1px 2px rgba(0, 0, 0, 0.3));\n",
       "      fill: #FFFFFF;\n",
       "    }\n",
       "  </style>\n",
       "\n",
       "      <script>\n",
       "        const buttonEl =\n",
       "          document.querySelector('#df-2b8dfcb7-9307-475c-abcc-1827668c9c7f button.colab-df-convert');\n",
       "        buttonEl.style.display =\n",
       "          google.colab.kernel.accessAllowed ? 'block' : 'none';\n",
       "\n",
       "        async function convertToInteractive(key) {\n",
       "          const element = document.querySelector('#df-2b8dfcb7-9307-475c-abcc-1827668c9c7f');\n",
       "          const dataTable =\n",
       "            await google.colab.kernel.invokeFunction('convertToInteractive',\n",
       "                                                     [key], {});\n",
       "          if (!dataTable) return;\n",
       "\n",
       "          const docLinkHtml = 'Like what you see? Visit the ' +\n",
       "            '<a target=\"_blank\" href=https://colab.research.google.com/notebooks/data_table.ipynb>data table notebook</a>'\n",
       "            + ' to learn more about interactive tables.';\n",
       "          element.innerHTML = '';\n",
       "          dataTable['output_type'] = 'display_data';\n",
       "          await google.colab.output.renderOutput(dataTable, element);\n",
       "          const docLink = document.createElement('div');\n",
       "          docLink.innerHTML = docLinkHtml;\n",
       "          element.appendChild(docLink);\n",
       "        }\n",
       "      </script>\n",
       "    </div>\n",
       "  </div>\n",
       "  "
      ],
      "text/plain": [
       "       X         y\n",
       "0      0  0.000000\n",
       "1      1  0.309017\n",
       "2      2  0.587785\n",
       "3      3  0.809017\n",
       "4      4  0.951057\n",
       "..   ...       ...\n",
       "355  355 -1.000000\n",
       "356  356 -0.951057\n",
       "357  357 -0.809017\n",
       "358  358 -0.587785\n",
       "359  359 -0.309017\n",
       "\n",
       "[360 rows x 2 columns]"
      ]
     },
     "execution_count": 17,
     "metadata": {},
     "output_type": "execute_result"
    }
   ],
   "source": [
    "X = np.arange(0, 360)\n",
    "y = np.sin(X*np.pi/10)\n",
    "df = pd.DataFrame({\"X\": X, \"y\":y})\n",
    "df"
   ]
  },
  {
   "cell_type": "code",
   "execution_count": 18,
   "metadata": {
    "executionInfo": {
     "elapsed": 5,
     "status": "ok",
     "timestamp": 1674734236413,
     "user": {
      "displayName": "Rockefeller",
      "userId": "14247310336372995288"
     },
     "user_tz": -60
    },
    "id": "JZj-Cdmp8Eem"
   },
   "outputs": [],
   "source": [
    "sinValues =  df['y']"
   ]
  },
  {
   "cell_type": "markdown",
   "metadata": {
    "id": "-98qwOKvkatV"
   },
   "source": [
    "It's always important to see what you are doing. You can save a lot of time like this ;)"
   ]
  },
  {
   "cell_type": "code",
   "execution_count": 21,
   "metadata": {
    "colab": {
     "base_uri": "https://localhost:8080/",
     "height": 505
    },
    "executionInfo": {
     "elapsed": 23,
     "status": "ok",
     "timestamp": 1674734317215,
     "user": {
      "displayName": "Rockefeller",
      "userId": "14247310336372995288"
     },
     "user_tz": -60
    },
    "id": "WF4nSQjekatW",
    "outputId": "a16752d8-a277-4643-bbab-6133307b9081"
   },
   "outputs": [
    {
     "data": {
      "text/plain": [
       "Text(0, 0.5, 'y')"
      ]
     },
     "execution_count": 21,
     "metadata": {},
     "output_type": "execute_result"
    },
    {
     "data": {
      "image/png": "[encoded data removed]",
      "text/plain": [
       "<Figure size 1440x576 with 1 Axes>"
      ]
     },
     "metadata": {},
     "output_type": "display_data"
    }
   ],
   "source": [
    "plt.figure(figsize=(20,8))\n",
    "plt.plot(df.y)\n",
    "plt.xlabel('X')\n",
    "plt.ylabel('y')"
   ]
  },
  {
   "cell_type": "markdown",
   "metadata": {
    "id": "QzudrNP8katW"
   },
   "source": [
    "## Training and Testing datasets \n",
    "The y values are just the next x value. \n",
    "Let's use 1 time step in to predict the next value of the series."
   ]
  },
  {
   "cell_type": "code",
   "execution_count": 19,
   "metadata": {
    "colab": {
     "base_uri": "https://localhost:8080/",
     "height": 424
    },
    "executionInfo": {
     "elapsed": 4,
     "status": "ok",
     "timestamp": 1674734239357,
     "user": {
      "displayName": "Rockefeller",
      "userId": "14247310336372995288"
     },
     "user_tz": -60
    },
    "id": "DbKHNdq5TVTP",
    "outputId": "d00aa0ca-0c1f-4096-ff43-7ad4ee39525f"
   },
   "outputs": [
    {
     "data": {
      "text/html": [
       "\n",
       "  <div id=\"df-af9f2221-783c-45cc-a96d-b00c8764231a\">\n",
       "    <div class=\"colab-df-container\">\n",
       "      <div>\n",
       "<style scoped>\n",
       "    .dataframe tbody tr th:only-of-type {\n",
       "        vertical-align: middle;\n",
       "    }\n",
       "\n",
       "    .dataframe tbody tr th {\n",
       "        vertical-align: top;\n",
       "    }\n",
       "\n",
       "    .dataframe thead th {\n",
       "        text-align: right;\n",
       "    }\n",
       "</style>\n",
       "<table border=\"1\" class=\"dataframe\">\n",
       "  <thead>\n",
       "    <tr style=\"text-align: right;\">\n",
       "      <th></th>\n",
       "      <th>t-1</th>\n",
       "      <th>t</th>\n",
       "    </tr>\n",
       "  </thead>\n",
       "  <tbody>\n",
       "    <tr>\n",
       "      <th>1</th>\n",
       "      <td>0.000000</td>\n",
       "      <td>0.309017</td>\n",
       "    </tr>\n",
       "    <tr>\n",
       "      <th>2</th>\n",
       "      <td>0.309017</td>\n",
       "      <td>0.587785</td>\n",
       "    </tr>\n",
       "    <tr>\n",
       "      <th>3</th>\n",
       "      <td>0.587785</td>\n",
       "      <td>0.809017</td>\n",
       "    </tr>\n",
       "    <tr>\n",
       "      <th>4</th>\n",
       "      <td>0.809017</td>\n",
       "      <td>0.951057</td>\n",
       "    </tr>\n",
       "    <tr>\n",
       "      <th>5</th>\n",
       "      <td>0.951057</td>\n",
       "      <td>1.000000</td>\n",
       "    </tr>\n",
       "    <tr>\n",
       "      <th>...</th>\n",
       "      <td>...</td>\n",
       "      <td>...</td>\n",
       "    </tr>\n",
       "    <tr>\n",
       "      <th>355</th>\n",
       "      <td>-0.951057</td>\n",
       "      <td>-1.000000</td>\n",
       "    </tr>\n",
       "    <tr>\n",
       "      <th>356</th>\n",
       "      <td>-1.000000</td>\n",
       "      <td>-0.951057</td>\n",
       "    </tr>\n",
       "    <tr>\n",
       "      <th>357</th>\n",
       "      <td>-0.951057</td>\n",
       "      <td>-0.809017</td>\n",
       "    </tr>\n",
       "    <tr>\n",
       "      <th>358</th>\n",
       "      <td>-0.809017</td>\n",
       "      <td>-0.587785</td>\n",
       "    </tr>\n",
       "    <tr>\n",
       "      <th>359</th>\n",
       "      <td>-0.587785</td>\n",
       "      <td>-0.309017</td>\n",
       "    </tr>\n",
       "  </tbody>\n",
       "</table>\n",
       "<p>359 rows × 2 columns</p>\n",
       "</div>\n",
       "      <button class=\"colab-df-convert\" onclick=\"convertToInteractive('df-af9f2221-783c-45cc-a96d-b00c8764231a')\"\n",
       "              title=\"Convert this dataframe to an interactive table.\"\n",
       "              style=\"display:none;\">\n",
       "        \n",
       "  <svg xmlns=\"http://www.w3.org/2000/svg\" height=\"24px\"viewBox=\"0 0 24 24\"\n",
       "       width=\"24px\">\n",
       "    <path d=\"M0 0h24v24H0V0z\" fill=\"none\"/>\n",
       "    <path d=\"M18.56 5.44l.94 2.06.94-2.06 2.06-.94-2.06-.94-.94-2.06-.94 2.06-2.06.94zm-11 1L8.5 8.5l.94-2.06 2.06-.94-2.06-.94L8.5 2.5l-.94 2.06-2.06.94zm10 10l.94 2.06.94-2.06 2.06-.94-2.06-.94-.94-2.06-.94 2.06-2.06.94z\"/><path d=\"M17.41 7.96l-1.37-1.37c-.4-.4-.92-.59-1.43-.59-.52 0-1.04.2-1.43.59L10.3 9.45l-7.72 7.72c-.78.78-.78 2.05 0 2.83L4 21.41c.39.39.9.59 1.41.59.51 0 1.02-.2 1.41-.59l7.78-7.78 2.81-2.81c.8-.78.8-2.07 0-2.86zM5.41 20L4 18.59l7.72-7.72 1.47 1.35L5.41 20z\"/>\n",
       "  </svg>\n",
       "      </button>\n",
       "      \n",
       "  <style>\n",
       "    .colab-df-container {\n",
       "      display:flex;\n",
       "      flex-wrap:wrap;\n",
       "      gap: 12px;\n",
       "    }\n",
       "\n",
       "    .colab-df-convert {\n",
       "      background-color: #E8F0FE;\n",
       "      border: none;\n",
       "      border-radius: 50%;\n",
       "      cursor: pointer;\n",
       "      display: none;\n",
       "      fill: #1967D2;\n",
       "      height: 32px;\n",
       "      padding: 0 0 0 0;\n",
       "      width: 32px;\n",
       "    }\n",
       "\n",
       "    .colab-df-convert:hover {\n",
       "      background-color: #E2EBFA;\n",
       "      box-shadow: 0px 1px 2px rgba(60, 64, 67, 0.3), 0px 1px 3px 1px rgba(60, 64, 67, 0.15);\n",
       "      fill: #174EA6;\n",
       "    }\n",
       "\n",
       "    [theme=dark] .colab-df-convert {\n",
       "      background-color: #3B4455;\n",
       "      fill: #D2E3FC;\n",
       "    }\n",
       "\n",
       "    [theme=dark] .colab-df-convert:hover {\n",
       "      background-color: #434B5C;\n",
       "      box-shadow: 0px 1px 3px 1px rgba(0, 0, 0, 0.15);\n",
       "      filter: drop-shadow(0px 1px 2px rgba(0, 0, 0, 0.3));\n",
       "      fill: #FFFFFF;\n",
       "    }\n",
       "  </style>\n",
       "\n",
       "      <script>\n",
       "        const buttonEl =\n",
       "          document.querySelector('#df-af9f2221-783c-45cc-a96d-b00c8764231a button.colab-df-convert');\n",
       "        buttonEl.style.display =\n",
       "          google.colab.kernel.accessAllowed ? 'block' : 'none';\n",
       "\n",
       "        async function convertToInteractive(key) {\n",
       "          const element = document.querySelector('#df-af9f2221-783c-45cc-a96d-b00c8764231a');\n",
       "          const dataTable =\n",
       "            await google.colab.kernel.invokeFunction('convertToInteractive',\n",
       "                                                     [key], {});\n",
       "          if (!dataTable) return;\n",
       "\n",
       "          const docLinkHtml = 'Like what you see? Visit the ' +\n",
       "            '<a target=\"_blank\" href=https://colab.research.google.com/notebooks/data_table.ipynb>data table notebook</a>'\n",
       "            + ' to learn more about interactive tables.';\n",
       "          element.innerHTML = '';\n",
       "          dataTable['output_type'] = 'display_data';\n",
       "          await google.colab.output.renderOutput(dataTable, element);\n",
       "          const docLink = document.createElement('div');\n",
       "          docLink.innerHTML = docLinkHtml;\n",
       "          element.appendChild(docLink);\n",
       "        }\n",
       "      </script>\n",
       "    </div>\n",
       "  </div>\n",
       "  "
      ],
      "text/plain": [
       "          t-1         t\n",
       "1    0.000000  0.309017\n",
       "2    0.309017  0.587785\n",
       "3    0.587785  0.809017\n",
       "4    0.809017  0.951057\n",
       "5    0.951057  1.000000\n",
       "..        ...       ...\n",
       "355 -0.951057 -1.000000\n",
       "356 -1.000000 -0.951057\n",
       "357 -0.951057 -0.809017\n",
       "358 -0.809017 -0.587785\n",
       "359 -0.587785 -0.309017\n",
       "\n",
       "[359 rows x 2 columns]"
      ]
     },
     "execution_count": 19,
     "metadata": {},
     "output_type": "execute_result"
    }
   ],
   "source": [
    "df_new =   partition_data(sinValues, 1)\n",
    "df_new"
   ]
  },
  {
   "cell_type": "markdown",
   "metadata": {
    "id": "lVldr9LXkatX"
   },
   "source": [
    "We'll be using the first 2/3 of the timeseries to train the model and the last 1/3 to evaluate it."
   ]
  },
  {
   "cell_type": "code",
   "execution_count": 20,
   "metadata": {
    "executionInfo": {
     "elapsed": 3,
     "status": "ok",
     "timestamp": 1674734287138,
     "user": {
      "displayName": "Rockefeller",
      "userId": "14247310336372995288"
     },
     "user_tz": -60
    },
    "id": "NXPTq_pgUASv"
   },
   "outputs": [],
   "source": [
    "X , y = data_windowing(sinValues.values, 1)\n",
    "n_points = len(X)\n",
    "train_points = int(2/3*n_points)+1\n",
    "X_train, X_test = X[:train_points] , X[train_points:]\n",
    "y_train, y_test = y[:train_points] , y[train_points:]"
   ]
  },
  {
   "cell_type": "code",
   "execution_count": 25,
   "metadata": {
    "colab": {
     "base_uri": "https://localhost:8080/"
    },
    "executionInfo": {
     "elapsed": 2,
     "status": "ok",
     "timestamp": 1674734588614,
     "user": {
      "displayName": "Rockefeller",
      "userId": "14247310336372995288"
     },
     "user_tz": -60
    },
    "id": "imYQI6EUkatX",
    "outputId": "a3bb6cf0-ef36-4122-d7f9-818bb2734539"
   },
   "outputs": [
    {
     "name": "stdout",
     "output_type": "stream",
     "text": [
      "We have 240 training points and 119 testing points\n"
     ]
    }
   ],
   "source": [
    "print(\"We have\", len(X_train), \"training points and\", X_test.shape[0], \"testing points\")"
   ]
  },
  {
   "cell_type": "code",
   "execution_count": 26,
   "metadata": {
    "colab": {
     "base_uri": "https://localhost:8080/"
    },
    "executionInfo": {
     "elapsed": 5,
     "status": "ok",
     "timestamp": 1674734589292,
     "user": {
      "displayName": "Rockefeller",
      "userId": "14247310336372995288"
     },
     "user_tz": -60
    },
    "id": "7xZRFWL_TzVk",
    "outputId": "45cc6189-5043-4684-edb3-6386bc11147b"
   },
   "outputs": [
    {
     "name": "stdout",
     "output_type": "stream",
     "text": [
      "(240, 1)\n",
      "(119, 1)\n"
     ]
    }
   ],
   "source": [
    "print(X_train.shape)\n",
    "print(X_test.shape)"
   ]
  },
  {
   "cell_type": "code",
   "execution_count": null,
   "metadata": {
    "id": "sclm6IWhT5Iy"
   },
   "outputs": [],
   "source": []
  },
  {
   "cell_type": "markdown",
   "metadata": {
    "id": "X3xYh2mMkatX"
   },
   "source": [
    "The SimpleRNN model expects a 3D ([samples, time steps, features]) dataset so we reshape them accordingly "
   ]
  },
  {
   "cell_type": "code",
   "execution_count": null,
   "metadata": {
    "id": "68MyfCzskatX"
   },
   "outputs": [],
   "source": [
    "from tensorflow.python.framework import ops\n",
    "ops.reset_default_graph()\n",
    "keras.backend.clear_session()\n"
   ]
  },
  {
   "cell_type": "markdown",
   "metadata": {
    "id": "zN2sUQaokatY"
   },
   "source": [
    "We're only using one timestep"
   ]
  },
  {
   "cell_type": "markdown",
   "metadata": {
    "id": "N2G-AK_HkatY"
   },
   "source": [
    "## Define the model architecture. \n",
    "We'll be using a SimpleRNN model with 10 hidden units. The Dense layer at the end has a linear activation function to aggregate the outputs of all the hidden units."
   ]
  },
  {
   "cell_type": "code",
   "execution_count": 22,
   "metadata": {
    "executionInfo": {
     "elapsed": 4603,
     "status": "ok",
     "timestamp": 1674734459194,
     "user": {
      "displayName": "Rockefeller",
      "userId": "14247310336372995288"
     },
     "user_tz": -60
    },
    "id": "Gpbg7o5DBYz8"
   },
   "outputs": [],
   "source": [
    "# TO UNDERSTAND THE STRUCTURE OF A RNN Cell\n",
    "hidden_units  = 3\n",
    "dense_units = 2\n",
    "input_shape = (3,2)\n",
    "toy_model = Sequential()\n",
    "toy_model.add(SimpleRNN(hidden_units, input_shape=input_shape,  activation='tanh' ))#, use_bias= False)) #transition equation\n",
    "toy_model.add(Dense(units=dense_units, activation= 'linear'))#, use_bias= False)) #output equation\n",
    "toy_model.compile(loss='mean_squared_error', optimizer='adam') "
   ]
  },
  {
   "cell_type": "code",
   "execution_count": 23,
   "metadata": {
    "colab": {
     "base_uri": "https://localhost:8080/"
    },
    "executionInfo": {
     "elapsed": 823,
     "status": "ok",
     "timestamp": 1674734481541,
     "user": {
      "displayName": "Rockefeller",
      "userId": "14247310336372995288"
     },
     "user_tz": -60
    },
    "id": "q2KDkBHUDGeN",
    "outputId": "79342a58-2618-4823-f09a-54e7f64ffeac"
   },
   "outputs": [
    {
     "name": "stdout",
     "output_type": "stream",
     "text": [
      "Model: \"sequential\"\n",
      "_________________________________________________________________\n",
      " Layer (type)                Output Shape              Param #   \n",
      "=================================================================\n",
      " simple_rnn (SimpleRNN)      (None, 3)                 18        \n",
      "                                                                 \n",
      " dense (Dense)               (None, 2)                 8         \n",
      "                                                                 \n",
      "=================================================================\n",
      "Total params: 26\n",
      "Trainable params: 26\n",
      "Non-trainable params: 0\n",
      "_________________________________________________________________\n"
     ]
    }
   ],
   "source": [
    "toy_model.summary()"
   ]
  },
  {
   "cell_type": "code",
   "execution_count": 27,
   "metadata": {
    "colab": {
     "base_uri": "https://localhost:8080/"
    },
    "executionInfo": {
     "elapsed": 20,
     "status": "ok",
     "timestamp": 1674734609566,
     "user": {
      "displayName": "Rockefeller",
      "userId": "14247310336372995288"
     },
     "user_tz": -60
    },
    "id": "2QFJR7TPkatY",
    "outputId": "91f77f5b-6f8e-4f2e-91c1-63d4d58d1f2d"
   },
   "outputs": [
    {
     "name": "stdout",
     "output_type": "stream",
     "text": [
      "Model: \"sequential_2\"\n",
      "_________________________________________________________________\n",
      " Layer (type)                Output Shape              Param #   \n",
      "=================================================================\n",
      " simple_rnn_1 (SimpleRNN)    (None, 5)                 35        \n",
      "                                                                 \n",
      " dense_1 (Dense)             (None, 1)                 6         \n",
      "                                                                 \n",
      "=================================================================\n",
      "Total params: 41\n",
      "Trainable params: 41\n",
      "Non-trainable params: 0\n",
      "_________________________________________________________________\n"
     ]
    }
   ],
   "source": [
    "model = Sequential()\n",
    "model.add(SimpleRNN(units=5, input_shape=(X_train.shape[0], X_train.shape[1]))) #input_shape takes time steps and features\n",
    "model.add(Dense(1))\n",
    "\n",
    "model.compile(loss='mean_squared_error', optimizer='sgd')\n",
    "\n",
    "model.summary()"
   ]
  },
  {
   "cell_type": "markdown",
   "metadata": {
    "id": "bQYp8vIWkatY"
   },
   "source": [
    "## Train the model"
   ]
  },
  {
   "cell_type": "code",
   "execution_count": 33,
   "metadata": {
    "colab": {
     "base_uri": "https://localhost:8080/"
    },
    "executionInfo": {
     "elapsed": 1375,
     "status": "ok",
     "timestamp": 1674734705139,
     "user": {
      "displayName": "Rockefeller",
      "userId": "14247310336372995288"
     },
     "user_tz": -60
    },
    "id": "Rcpleeq9katZ",
    "outputId": "9c09c618-a10d-49e1-a7ba-b8bff8a955b4"
   },
   "outputs": [
    {
     "name": "stdout",
     "output_type": "stream",
     "text": [
      "Epoch 1/30\n",
      "8/8 [==============================] - 0s 3ms/step - loss: 0.0480\n",
      "Epoch 2/30\n",
      "8/8 [==============================] - 0s 3ms/step - loss: 0.0480\n",
      "Epoch 3/30\n",
      "8/8 [==============================] - 0s 3ms/step - loss: 0.0480\n",
      "Epoch 4/30\n",
      "8/8 [==============================] - 0s 3ms/step - loss: 0.0481\n",
      "Epoch 5/30\n",
      "8/8 [==============================] - 0s 3ms/step - loss: 0.0480\n",
      "Epoch 6/30\n",
      "8/8 [==============================] - 0s 3ms/step - loss: 0.0481\n",
      "Epoch 7/30\n",
      "8/8 [==============================] - 0s 3ms/step - loss: 0.0481\n",
      "Epoch 8/30\n",
      "8/8 [==============================] - 0s 3ms/step - loss: 0.0480\n",
      "Epoch 9/30\n",
      "8/8 [==============================] - 0s 3ms/step - loss: 0.0480\n",
      "Epoch 10/30\n",
      "8/8 [==============================] - 0s 4ms/step - loss: 0.0481\n",
      "Epoch 11/30\n",
      "8/8 [==============================] - 0s 3ms/step - loss: 0.0480\n",
      "Epoch 12/30\n",
      "8/8 [==============================] - 0s 3ms/step - loss: 0.0482\n",
      "Epoch 13/30\n",
      "8/8 [==============================] - 0s 3ms/step - loss: 0.0481\n",
      "Epoch 14/30\n",
      "8/8 [==============================] - 0s 4ms/step - loss: 0.0480\n",
      "Epoch 15/30\n",
      "8/8 [==============================] - 0s 3ms/step - loss: 0.0481\n",
      "Epoch 16/30\n",
      "8/8 [==============================] - 0s 3ms/step - loss: 0.0482\n",
      "Epoch 17/30\n",
      "8/8 [==============================] - 0s 3ms/step - loss: 0.0481\n",
      "Epoch 18/30\n",
      "8/8 [==============================] - 0s 3ms/step - loss: 0.0480\n",
      "Epoch 19/30\n",
      "8/8 [==============================] - 0s 3ms/step - loss: 0.0481\n",
      "Epoch 20/30\n",
      "8/8 [==============================] - 0s 4ms/step - loss: 0.0480\n",
      "Epoch 21/30\n",
      "8/8 [==============================] - 0s 3ms/step - loss: 0.0481\n",
      "Epoch 22/30\n",
      "8/8 [==============================] - 0s 4ms/step - loss: 0.0481\n",
      "Epoch 23/30\n",
      "8/8 [==============================] - 0s 3ms/step - loss: 0.0481\n",
      "Epoch 24/30\n",
      "8/8 [==============================] - 0s 3ms/step - loss: 0.0483\n",
      "Epoch 25/30\n",
      "8/8 [==============================] - 0s 3ms/step - loss: 0.0481\n",
      "Epoch 26/30\n",
      "8/8 [==============================] - 0s 3ms/step - loss: 0.0481\n",
      "Epoch 27/30\n",
      "8/8 [==============================] - 0s 3ms/step - loss: 0.0481\n",
      "Epoch 28/30\n",
      "8/8 [==============================] - 0s 3ms/step - loss: 0.0480\n",
      "Epoch 29/30\n",
      "8/8 [==============================] - 0s 3ms/step - loss: 0.0480\n",
      "Epoch 30/30\n",
      "8/8 [==============================] - 0s 3ms/step - loss: 0.0480\n"
     ]
    },
    {
     "data": {
      "text/plain": [
       "<keras.callbacks.History at 0x7fdb6020b3d0>"
      ]
     },
     "execution_count": 33,
     "metadata": {},
     "output_type": "execute_result"
    }
   ],
   "source": [
    "nb_epoch = 30\n",
    "\n",
    "model.fit(X_train, y_train, epochs=nb_epoch)"
   ]
  },
  {
   "cell_type": "markdown",
   "metadata": {
    "id": "IViGWhpWkatZ"
   },
   "source": [
    "## Make predictions"
   ]
  },
  {
   "cell_type": "code",
   "execution_count": 29,
   "metadata": {
    "colab": {
     "base_uri": "https://localhost:8080/"
    },
    "executionInfo": {
     "elapsed": 29,
     "status": "ok",
     "timestamp": 1674734645749,
     "user": {
      "displayName": "Rockefeller",
      "userId": "14247310336372995288"
     },
     "user_tz": -60
    },
    "id": "QqyNm0LykatZ",
    "outputId": "9e6d4566-e996-4a84-b82f-8ba7c25b5b14"
   },
   "outputs": [
    {
     "name": "stderr",
     "output_type": "stream",
     "text": [
      "WARNING:tensorflow:Model was constructed with shape (None, 240, 1) for input KerasTensor(type_spec=TensorSpec(shape=(None, 240, 1), dtype=tf.float32, name='simple_rnn_1_input'), name='simple_rnn_1_input', description=\"created by layer 'simple_rnn_1_input'\"), but it was called on an input with incompatible shape (None, 1, 1).\n"
     ]
    },
    {
     "name": "stdout",
     "output_type": "stream",
     "text": [
      "8/8 [==============================] - 0s 2ms/step\n",
      "4/4 [==============================] - 0s 3ms/step\n"
     ]
    }
   ],
   "source": [
    "y_train_pred = model.predict(X_train)\n",
    "y_test_pred = model.predict(X_test)"
   ]
  },
  {
   "cell_type": "code",
   "execution_count": 30,
   "metadata": {
    "colab": {
     "base_uri": "https://localhost:8080/"
    },
    "executionInfo": {
     "elapsed": 8,
     "status": "ok",
     "timestamp": 1674734651584,
     "user": {
      "displayName": "Rockefeller",
      "userId": "14247310336372995288"
     },
     "user_tz": -60
    },
    "id": "aAB35tLqXhe-",
    "outputId": "36c380a7-6646-4b49-f6ac-c16d2c565af0"
   },
   "outputs": [
    {
     "data": {
      "text/plain": [
       "0.047957617681689706"
      ]
     },
     "execution_count": 30,
     "metadata": {},
     "output_type": "execute_result"
    }
   ],
   "source": [
    "mean_squared_error(y_train_pred , y_train)"
   ]
  },
  {
   "cell_type": "markdown",
   "metadata": {
    "id": "JWKOYZ_KkatZ"
   },
   "source": [
    "Compile the values"
   ]
  },
  {
   "cell_type": "code",
   "execution_count": 31,
   "metadata": {
    "colab": {
     "base_uri": "https://localhost:8080/",
     "height": 495
    },
    "executionInfo": {
     "elapsed": 22,
     "status": "ok",
     "timestamp": 1674734655328,
     "user": {
      "displayName": "Rockefeller",
      "userId": "14247310336372995288"
     },
     "user_tz": -60
    },
    "id": "vRH258hCQeuY",
    "outputId": "c71ce2d9-8701-4188-b8e7-16bd369f4e7a"
   },
   "outputs": [
    {
     "data": {
      "text/plain": [
       "<matplotlib.legend.Legend at 0x7fdb6028ca90>"
      ]
     },
     "execution_count": 31,
     "metadata": {},
     "output_type": "execute_result"
    },
    {
     "data": {
      "image/png": "[encoded data removed]",
      "text/plain": [
       "<Figure size 1440x576 with 1 Axes>"
      ]
     },
     "metadata": {},
     "output_type": "display_data"
    }
   ],
   "source": [
    "plt.figure(figsize=(20,8))\n",
    "plt.plot(y_train_pred[1:] , label ='y_train_pred')\n",
    "plt.plot(y_train , label ='y_train')\n",
    "plt.legend(loc='upper right')\n"
   ]
  },
  {
   "cell_type": "code",
   "execution_count": null,
   "metadata": {
    "id": "mKA15J5jXpwN"
   },
   "outputs": [],
   "source": [
    "mean_squared_error(y_test_pred , y_test)"
   ]
  },
  {
   "cell_type": "code",
   "execution_count": 32,
   "metadata": {
    "colab": {
     "base_uri": "https://localhost:8080/",
     "height": 496
    },
    "executionInfo": {
     "elapsed": 24,
     "status": "ok",
     "timestamp": 1674734686131,
     "user": {
      "displayName": "Rockefeller",
      "userId": "14247310336372995288"
     },
     "user_tz": -60
    },
    "id": "ZwyePSIQSDrk",
    "outputId": "a1f1d0cc-406a-44db-87fd-c9a65f8664b6"
   },
   "outputs": [
    {
     "data": {
      "text/plain": [
       "<matplotlib.legend.Legend at 0x7fdb6024cf70>"
      ]
     },
     "execution_count": 32,
     "metadata": {},
     "output_type": "execute_result"
    },
    {
     "data": {
      "image/png": "[encoded data removed]",
      "text/plain": [
       "<Figure size 1440x576 with 1 Axes>"
      ]
     },
     "metadata": {},
     "output_type": "display_data"
    }
   ],
   "source": [
    "plt.figure(figsize=(20,8))\n",
    "plt.plot(y_test_pred[1:],label ='y_test_pred' )\n",
    "plt.plot(y_test , label ='y_test')\n",
    "plt.legend(loc='best')\n"
   ]
  },
  {
   "cell_type": "markdown",
   "metadata": {
    "id": "AeFxhgtlkata"
   },
   "source": [
    "# LSTM\n",
    "Let's now try using a slightly more sophisticated architecture"
   ]
  },
  {
   "cell_type": "code",
   "execution_count": null,
   "metadata": {
    "id": "ldTrEK0ukata"
   },
   "outputs": [],
   "source": [
    "model = Sequential()\n",
    "model.add(LSTM(4, input_shape=(X_train.shape[1], X_train.shape[2]))) #input_shape takes time steps and features\n",
    "#model.add(LSTM(10))\n",
    "model.add(Dense(1))\n",
    "model.compile(loss='mean_squared_error', optimizer='adam')"
   ]
  },
  {
   "cell_type": "code",
   "execution_count": null,
   "metadata": {
    "id": "wAI2tJgQkata"
   },
   "outputs": [],
   "source": [
    "model.summary()"
   ]
  },
  {
   "cell_type": "code",
   "execution_count": null,
   "metadata": {
    "id": "YuHkxxk7kata",
    "scrolled": true
   },
   "outputs": [],
   "source": [
    "nb_epoch = 50\n",
    "\n",
    "model.fit(X_train, y_train, epochs=nb_epoch)"
   ]
  },
  {
   "cell_type": "markdown",
   "metadata": {
    "id": "wvxdH9slkatb"
   },
   "source": [
    "Calculate the predicted values"
   ]
  },
  {
   "cell_type": "code",
   "execution_count": null,
   "metadata": {
    "id": "xsSOct4Skatb"
   },
   "outputs": [],
   "source": [
    "y_train_pred_LSTM = model.predict(X_train)\n",
    "y_test_pred_LSTM = model.predict(X_test)\n"
   ]
  },
  {
   "cell_type": "code",
   "execution_count": null,
   "metadata": {
    "id": "PnovIHLQXcnc"
   },
   "outputs": [],
   "source": [
    "mean_squared_error(y_train_pred_LSTM , y_train)"
   ]
  },
  {
   "cell_type": "code",
   "execution_count": null,
   "metadata": {
    "id": "XJrKWTkokatb"
   },
   "outputs": [],
   "source": [
    "plt.figure(figsize=(20,8))\n",
    "plt.plot(y_train_pred_LSTM[1:] , label ='y_train_pred')\n",
    "plt.plot(y_train , label ='y_train')\n",
    "plt.legend(loc='upper right')\n"
   ]
  },
  {
   "cell_type": "code",
   "execution_count": null,
   "metadata": {
    "id": "6joxgM5VXwop"
   },
   "outputs": [],
   "source": [
    "plt.figure(figsize=(20,8))\n",
    "plt.plot(y_test_pred_LSTM[1:],label ='y_test_pred' )\n",
    "plt.plot(y_test , label ='y_test')\n",
    "plt.legend(loc='best')\n"
   ]
  },
  {
   "cell_type": "markdown",
   "metadata": {
    "id": "r16L3DDUkatb"
   },
   "source": [
    "# Multiple timesteps\n",
    "So far we've been using architectures with just a single timestep. Now we'll see how we can use multiple timesteps (t-1, t) to predict the value at t+1. We'll keep the basic architecture of the system. We still have the raw data in memory, so we don't need to reload it. We just have to be careful when we build the inputs"
   ]
  },
  {
   "cell_type": "code",
   "execution_count": null,
   "metadata": {
    "id": "y3nuL90uasJE"
   },
   "outputs": [],
   "source": []
  },
  {
   "cell_type": "code",
   "execution_count": null,
   "metadata": {
    "id": "Uok5mLv9YBgO"
   },
   "outputs": [],
   "source": [
    "sinValues = pd.DataFrame(df.y.values)\n",
    "\n",
    "df_new = pd.concat([sinValues.shift(3),sinValues.shift(2) , sinValues.shift(1), sinValues], axis=1)\n",
    "df_new.columns = ['t-3', 't-2' , 't-1' , 't']\n",
    "df_new = df_new.dropna(how= 'any')\n",
    "df_new.head(5)"
   ]
  },
  {
   "cell_type": "code",
   "execution_count": null,
   "metadata": {
    "id": "GKlWXFPca6UX"
   },
   "outputs": [],
   "source": [
    "X , y = data_windowing(sinValues.values, 3)\n",
    "n_points = len(X)\n",
    "train_points = int(2/3*n_points)+1\n",
    "X2_train, X2_test = X[:train_points] , X[train_points:]\n",
    "y2_train, y2_test = y[:train_points] , y[train_points:]"
   ]
  },
  {
   "cell_type": "code",
   "execution_count": null,
   "metadata": {
    "id": "OpkeJcbpYh50"
   },
   "outputs": [],
   "source": [
    "\n",
    "print(\"We have\", len(X_train), \"training points and\", X_test.shape[0], \"testing points\")"
   ]
  },
  {
   "cell_type": "markdown",
   "metadata": {
    "id": "Y6xkJHDdkatc"
   },
   "source": [
    "The more we increas the lag, the more points we lose! The rest of the code looks pretty much the same"
   ]
  },
  {
   "cell_type": "code",
   "execution_count": null,
   "metadata": {
    "id": "Flx9xlMBkatc"
   },
   "outputs": [],
   "source": [
    "\n",
    "print(X2_train.shape)\n",
    "print(X2_test.shape)"
   ]
  },
  {
   "cell_type": "markdown",
   "metadata": {
    "id": "fbwGw6z2katc"
   },
   "source": [
    "But now we see that the result is slightly different. For each of our examples, we now have 3 timesteps to consider. Now we just need to refine the model:"
   ]
  },
  {
   "cell_type": "code",
   "execution_count": null,
   "metadata": {
    "id": "fvNNVXTCkatc"
   },
   "outputs": [],
   "source": [
    "model = Sequential()\n",
    "model.add(LSTM(units=10, input_shape=(X2_train.shape[1], X2_train.shape[2]))) #input_shape takes time steps and features\n",
    "model.add(Dense(1))\n",
    "model.compile(loss='mean_squared_error', optimizer='adam')\n",
    "model.summary()"
   ]
  },
  {
   "cell_type": "code",
   "execution_count": null,
   "metadata": {
    "id": "R8UBEy3gkatd",
    "scrolled": false
   },
   "outputs": [],
   "source": [
    "nb_epoch = 50\n",
    "model.fit(X2_train, y2_train, epochs=nb_epoch, shuffle=False)"
   ]
  },
  {
   "cell_type": "code",
   "execution_count": null,
   "metadata": {
    "id": "J469PiXykatd"
   },
   "outputs": [],
   "source": [
    "y2_train_pred_LSTM = model.predict(X2_train)\n",
    "y2_test_pred_LSTM = model.predict(X2_test)\n"
   ]
  },
  {
   "cell_type": "code",
   "execution_count": null,
   "metadata": {
    "id": "zy5brVFzbQ5F"
   },
   "outputs": [],
   "source": [
    "y2_train[:,0,0].shape\n"
   ]
  },
  {
   "cell_type": "code",
   "execution_count": null,
   "metadata": {
    "id": "TVc8fttgbMRf"
   },
   "outputs": [],
   "source": [
    "mean_squared_error(y2_train_pred_LSTM [:,0], y2_train[:,0,0])"
   ]
  },
  {
   "cell_type": "code",
   "execution_count": null,
   "metadata": {
    "id": "sux7AMwLsSLv"
   },
   "outputs": [],
   "source": [
    "plt.figure(figsize=(20,8))\n",
    "plt.plot(np.arange(len(y2_train)) , y2_train[:,0,0], label ='y2_train' , c='g')\n",
    "\n",
    "plt.plot(np.arange(y2_train_pred_LSTM.shape[0]), y2_train_pred_LSTM[:,0], label ='y2_train_pred' , c='r')\n",
    "plt.legend(loc='upper right')\n"
   ]
  },
  {
   "cell_type": "code",
   "execution_count": null,
   "metadata": {
    "id": "etGBy0K0NOiD"
   },
   "outputs": [],
   "source": [
    "plt.figure(figsize=(20,8))\n",
    "plt.plot(np.arange(len(y2_test)) , y2_test[:,0,0], label ='y2_test' , c='g')\n",
    "\n",
    "plt.plot(np.arange(y2_test_pred_LSTM.shape[0]), y2_test_pred_LSTM[:,0], label ='y2_test_pred' , c='r')\n",
    "plt.legend(loc='upper right')\n"
   ]
  },
  {
   "cell_type": "code",
   "execution_count": null,
   "metadata": {
    "id": "KxgEllsENOfB"
   },
   "outputs": [],
   "source": []
  },
  {
   "cell_type": "markdown",
   "metadata": {
    "id": "B9XQjINEeGlG"
   },
   "source": [
    "# Exercice:\n",
    "\n",
    "\n",
    "\n",
    "1.   Load the dataset from Limbe at the url adress below and design your own RNN and LSTM model.\n",
    "2.   Train a Vanilla RNN model, report the characteristics of your model,  the error during training and provide a picture of your forecast.\n",
    "3.   Train a LSTM model, report the characteristics of your model,  the error made during training and forecasting.\n",
    "\n",
    "4. Provide a picture of the  forecast for both models.\n",
    "\n",
    "\n",
    "5. Increase your past information and re-do step 2 and 3.\n",
    "\n",
    "\n",
    "6. (Bonus) Apply a Preprocessing method of the climate product that you choose and re-do step 2 ,  3 and 4.\n",
    "\n",
    "\n",
    "7. What did you learn from these experiments?\n",
    "\n",
    "\n",
    "\n",
    "url = 'https://raw.githubusercontent.com/rock-feller/Datasets_for_Education/main/data_02/limbe_data_JanApr21.csv'"
   ]
  },
  {
   "cell_type": "code",
   "execution_count": null,
   "metadata": {
    "colab": {
     "background_save": true
    },
    "id": "xULDG1VfOluH"
   },
   "outputs": [],
   "source": [
    "url = 'https://raw.githubusercontent.com/rock-feller/Datasets_for_Education/main/data_02/limbe_data_JanApr21.csv'"
   ]
  },
  {
   "cell_type": "code",
   "execution_count": null,
   "metadata": {
    "colab": {
     "background_save": true
    },
    "id": "hzOdpBrZfzyV"
   },
   "outputs": [
    {
     "data": {
      "text/html": [
       "\n",
       "  <div id=\"df-77abe722-4957-42b9-9690-18ccae88a04d\">\n",
       "    <div class=\"colab-df-container\">\n",
       "      <div>\n",
       "<style scoped>\n",
       "    .dataframe tbody tr th:only-of-type {\n",
       "        vertical-align: middle;\n",
       "    }\n",
       "\n",
       "    .dataframe tbody tr th {\n",
       "        vertical-align: top;\n",
       "    }\n",
       "\n",
       "    .dataframe thead th {\n",
       "        text-align: right;\n",
       "    }\n",
       "</style>\n",
       "<table border=\"1\" class=\"dataframe\">\n",
       "  <thead>\n",
       "    <tr style=\"text-align: right;\">\n",
       "      <th></th>\n",
       "      <th>LAT</th>\n",
       "      <th>LON</th>\n",
       "      <th>YEAR</th>\n",
       "      <th>MO</th>\n",
       "      <th>DY</th>\n",
       "      <th>WS50M_RANGE</th>\n",
       "      <th>WS10M_MIN</th>\n",
       "      <th>WS10M</th>\n",
       "      <th>WS50M</th>\n",
       "      <th>T2M_MAX</th>\n",
       "      <th>...</th>\n",
       "      <th>T2M</th>\n",
       "      <th>WS10M_RANGE</th>\n",
       "      <th>T2M_MIN</th>\n",
       "      <th>WS10M_MAX</th>\n",
       "      <th>ALLSKY_SFC_SW_DWN</th>\n",
       "      <th>T2MDEW</th>\n",
       "      <th>PS</th>\n",
       "      <th>RH2M</th>\n",
       "      <th>WS50M_MIN</th>\n",
       "      <th>WS2M</th>\n",
       "    </tr>\n",
       "  </thead>\n",
       "  <tbody>\n",
       "    <tr>\n",
       "      <th>0</th>\n",
       "      <td>4.03161</td>\n",
       "      <td>9.21461</td>\n",
       "      <td>2021</td>\n",
       "      <td>1</td>\n",
       "      <td>1</td>\n",
       "      <td>3.28</td>\n",
       "      <td>0.95</td>\n",
       "      <td>1.96</td>\n",
       "      <td>2.75</td>\n",
       "      <td>29.10</td>\n",
       "      <td>...</td>\n",
       "      <td>26.50</td>\n",
       "      <td>1.54</td>\n",
       "      <td>24.93</td>\n",
       "      <td>2.49</td>\n",
       "      <td>4.46</td>\n",
       "      <td>23.99</td>\n",
       "      <td>98.45</td>\n",
       "      <td>86.04</td>\n",
       "      <td>0.89</td>\n",
       "      <td>1.40</td>\n",
       "    </tr>\n",
       "    <tr>\n",
       "      <th>1</th>\n",
       "      <td>4.03161</td>\n",
       "      <td>9.21461</td>\n",
       "      <td>2021</td>\n",
       "      <td>1</td>\n",
       "      <td>2</td>\n",
       "      <td>2.82</td>\n",
       "      <td>1.13</td>\n",
       "      <td>1.87</td>\n",
       "      <td>2.52</td>\n",
       "      <td>29.32</td>\n",
       "      <td>...</td>\n",
       "      <td>26.47</td>\n",
       "      <td>1.28</td>\n",
       "      <td>24.79</td>\n",
       "      <td>2.41</td>\n",
       "      <td>5.01</td>\n",
       "      <td>23.77</td>\n",
       "      <td>98.47</td>\n",
       "      <td>85.04</td>\n",
       "      <td>1.15</td>\n",
       "      <td>1.33</td>\n",
       "    </tr>\n",
       "    <tr>\n",
       "      <th>2</th>\n",
       "      <td>4.03161</td>\n",
       "      <td>9.21461</td>\n",
       "      <td>2021</td>\n",
       "      <td>1</td>\n",
       "      <td>3</td>\n",
       "      <td>3.02</td>\n",
       "      <td>0.61</td>\n",
       "      <td>1.62</td>\n",
       "      <td>2.17</td>\n",
       "      <td>28.16</td>\n",
       "      <td>...</td>\n",
       "      <td>26.05</td>\n",
       "      <td>1.70</td>\n",
       "      <td>24.69</td>\n",
       "      <td>2.31</td>\n",
       "      <td>4.99</td>\n",
       "      <td>23.55</td>\n",
       "      <td>98.47</td>\n",
       "      <td>86.02</td>\n",
       "      <td>0.71</td>\n",
       "      <td>1.17</td>\n",
       "    </tr>\n",
       "    <tr>\n",
       "      <th>3</th>\n",
       "      <td>4.03161</td>\n",
       "      <td>9.21461</td>\n",
       "      <td>2021</td>\n",
       "      <td>1</td>\n",
       "      <td>4</td>\n",
       "      <td>4.22</td>\n",
       "      <td>0.07</td>\n",
       "      <td>1.38</td>\n",
       "      <td>1.89</td>\n",
       "      <td>29.79</td>\n",
       "      <td>...</td>\n",
       "      <td>26.50</td>\n",
       "      <td>2.61</td>\n",
       "      <td>24.51</td>\n",
       "      <td>2.67</td>\n",
       "      <td>4.94</td>\n",
       "      <td>23.40</td>\n",
       "      <td>98.37</td>\n",
       "      <td>82.89</td>\n",
       "      <td>0.04</td>\n",
       "      <td>0.97</td>\n",
       "    </tr>\n",
       "    <tr>\n",
       "      <th>4</th>\n",
       "      <td>4.03161</td>\n",
       "      <td>9.21461</td>\n",
       "      <td>2021</td>\n",
       "      <td>1</td>\n",
       "      <td>5</td>\n",
       "      <td>3.26</td>\n",
       "      <td>0.62</td>\n",
       "      <td>1.87</td>\n",
       "      <td>2.52</td>\n",
       "      <td>28.69</td>\n",
       "      <td>...</td>\n",
       "      <td>26.24</td>\n",
       "      <td>1.87</td>\n",
       "      <td>24.60</td>\n",
       "      <td>2.50</td>\n",
       "      <td>5.17</td>\n",
       "      <td>23.85</td>\n",
       "      <td>98.33</td>\n",
       "      <td>86.60</td>\n",
       "      <td>0.77</td>\n",
       "      <td>1.37</td>\n",
       "    </tr>\n",
       "    <tr>\n",
       "      <th>...</th>\n",
       "      <td>...</td>\n",
       "      <td>...</td>\n",
       "      <td>...</td>\n",
       "      <td>...</td>\n",
       "      <td>...</td>\n",
       "      <td>...</td>\n",
       "      <td>...</td>\n",
       "      <td>...</td>\n",
       "      <td>...</td>\n",
       "      <td>...</td>\n",
       "      <td>...</td>\n",
       "      <td>...</td>\n",
       "      <td>...</td>\n",
       "      <td>...</td>\n",
       "      <td>...</td>\n",
       "      <td>...</td>\n",
       "      <td>...</td>\n",
       "      <td>...</td>\n",
       "      <td>...</td>\n",
       "      <td>...</td>\n",
       "      <td>...</td>\n",
       "    </tr>\n",
       "    <tr>\n",
       "      <th>108</th>\n",
       "      <td>4.03161</td>\n",
       "      <td>9.21461</td>\n",
       "      <td>2021</td>\n",
       "      <td>4</td>\n",
       "      <td>19</td>\n",
       "      <td>1.46</td>\n",
       "      <td>1.47</td>\n",
       "      <td>2.02</td>\n",
       "      <td>2.66</td>\n",
       "      <td>28.21</td>\n",
       "      <td>...</td>\n",
       "      <td>26.22</td>\n",
       "      <td>1.06</td>\n",
       "      <td>24.94</td>\n",
       "      <td>2.53</td>\n",
       "      <td>-999.00</td>\n",
       "      <td>23.98</td>\n",
       "      <td>98.41</td>\n",
       "      <td>87.46</td>\n",
       "      <td>1.98</td>\n",
       "      <td>1.42</td>\n",
       "    </tr>\n",
       "    <tr>\n",
       "      <th>109</th>\n",
       "      <td>4.03161</td>\n",
       "      <td>9.21461</td>\n",
       "      <td>2021</td>\n",
       "      <td>4</td>\n",
       "      <td>20</td>\n",
       "      <td>2.02</td>\n",
       "      <td>0.94</td>\n",
       "      <td>1.72</td>\n",
       "      <td>2.27</td>\n",
       "      <td>27.82</td>\n",
       "      <td>...</td>\n",
       "      <td>26.17</td>\n",
       "      <td>1.15</td>\n",
       "      <td>24.84</td>\n",
       "      <td>2.08</td>\n",
       "      <td>-999.00</td>\n",
       "      <td>23.95</td>\n",
       "      <td>98.36</td>\n",
       "      <td>87.51</td>\n",
       "      <td>1.00</td>\n",
       "      <td>1.20</td>\n",
       "    </tr>\n",
       "    <tr>\n",
       "      <th>110</th>\n",
       "      <td>4.03161</td>\n",
       "      <td>9.21461</td>\n",
       "      <td>2021</td>\n",
       "      <td>4</td>\n",
       "      <td>21</td>\n",
       "      <td>3.72</td>\n",
       "      <td>0.38</td>\n",
       "      <td>1.78</td>\n",
       "      <td>2.43</td>\n",
       "      <td>29.30</td>\n",
       "      <td>...</td>\n",
       "      <td>26.80</td>\n",
       "      <td>2.43</td>\n",
       "      <td>25.27</td>\n",
       "      <td>2.81</td>\n",
       "      <td>-999.00</td>\n",
       "      <td>23.90</td>\n",
       "      <td>98.35</td>\n",
       "      <td>83.97</td>\n",
       "      <td>0.52</td>\n",
       "      <td>1.28</td>\n",
       "    </tr>\n",
       "    <tr>\n",
       "      <th>111</th>\n",
       "      <td>4.03161</td>\n",
       "      <td>9.21461</td>\n",
       "      <td>2021</td>\n",
       "      <td>4</td>\n",
       "      <td>22</td>\n",
       "      <td>-999.00</td>\n",
       "      <td>-999.00</td>\n",
       "      <td>-999.00</td>\n",
       "      <td>-999.00</td>\n",
       "      <td>-999.00</td>\n",
       "      <td>...</td>\n",
       "      <td>-999.00</td>\n",
       "      <td>-999.00</td>\n",
       "      <td>-999.00</td>\n",
       "      <td>-999.00</td>\n",
       "      <td>-999.00</td>\n",
       "      <td>-999.00</td>\n",
       "      <td>-999.00</td>\n",
       "      <td>-999.00</td>\n",
       "      <td>-999.00</td>\n",
       "      <td>-999.00</td>\n",
       "    </tr>\n",
       "    <tr>\n",
       "      <th>112</th>\n",
       "      <td>4.03161</td>\n",
       "      <td>9.21461</td>\n",
       "      <td>2021</td>\n",
       "      <td>4</td>\n",
       "      <td>23</td>\n",
       "      <td>-999.00</td>\n",
       "      <td>-999.00</td>\n",
       "      <td>-999.00</td>\n",
       "      <td>-999.00</td>\n",
       "      <td>-999.00</td>\n",
       "      <td>...</td>\n",
       "      <td>-999.00</td>\n",
       "      <td>-999.00</td>\n",
       "      <td>-999.00</td>\n",
       "      <td>-999.00</td>\n",
       "      <td>-999.00</td>\n",
       "      <td>-999.00</td>\n",
       "      <td>-999.00</td>\n",
       "      <td>-999.00</td>\n",
       "      <td>-999.00</td>\n",
       "      <td>-999.00</td>\n",
       "    </tr>\n",
       "  </tbody>\n",
       "</table>\n",
       "<p>113 rows × 23 columns</p>\n",
       "</div>\n",
       "      <button class=\"colab-df-convert\" onclick=\"convertToInteractive('df-77abe722-4957-42b9-9690-18ccae88a04d')\"\n",
       "              title=\"Convert this dataframe to an interactive table.\"\n",
       "              style=\"display:none;\">\n",
       "        \n",
       "  <svg xmlns=\"http://www.w3.org/2000/svg\" height=\"24px\"viewBox=\"0 0 24 24\"\n",
       "       width=\"24px\">\n",
       "    <path d=\"M0 0h24v24H0V0z\" fill=\"none\"/>\n",
       "    <path d=\"M18.56 5.44l.94 2.06.94-2.06 2.06-.94-2.06-.94-.94-2.06-.94 2.06-2.06.94zm-11 1L8.5 8.5l.94-2.06 2.06-.94-2.06-.94L8.5 2.5l-.94 2.06-2.06.94zm10 10l.94 2.06.94-2.06 2.06-.94-2.06-.94-.94-2.06-.94 2.06-2.06.94z\"/><path d=\"M17.41 7.96l-1.37-1.37c-.4-.4-.92-.59-1.43-.59-.52 0-1.04.2-1.43.59L10.3 9.45l-7.72 7.72c-.78.78-.78 2.05 0 2.83L4 21.41c.39.39.9.59 1.41.59.51 0 1.02-.2 1.41-.59l7.78-7.78 2.81-2.81c.8-.78.8-2.07 0-2.86zM5.41 20L4 18.59l7.72-7.72 1.47 1.35L5.41 20z\"/>\n",
       "  </svg>\n",
       "      </button>\n",
       "      \n",
       "  <style>\n",
       "    .colab-df-container {\n",
       "      display:flex;\n",
       "      flex-wrap:wrap;\n",
       "      gap: 12px;\n",
       "    }\n",
       "\n",
       "    .colab-df-convert {\n",
       "      background-color: #E8F0FE;\n",
       "      border: none;\n",
       "      border-radius: 50%;\n",
       "      cursor: pointer;\n",
       "      display: none;\n",
       "      fill: #1967D2;\n",
       "      height: 32px;\n",
       "      padding: 0 0 0 0;\n",
       "      width: 32px;\n",
       "    }\n",
       "\n",
       "    .colab-df-convert:hover {\n",
       "      background-color: #E2EBFA;\n",
       "      box-shadow: 0px 1px 2px rgba(60, 64, 67, 0.3), 0px 1px 3px 1px rgba(60, 64, 67, 0.15);\n",
       "      fill: #174EA6;\n",
       "    }\n",
       "\n",
       "    [theme=dark] .colab-df-convert {\n",
       "      background-color: #3B4455;\n",
       "      fill: #D2E3FC;\n",
       "    }\n",
       "\n",
       "    [theme=dark] .colab-df-convert:hover {\n",
       "      background-color: #434B5C;\n",
       "      box-shadow: 0px 1px 3px 1px rgba(0, 0, 0, 0.15);\n",
       "      filter: drop-shadow(0px 1px 2px rgba(0, 0, 0, 0.3));\n",
       "      fill: #FFFFFF;\n",
       "    }\n",
       "  </style>\n",
       "\n",
       "      <script>\n",
       "        const buttonEl =\n",
       "          document.querySelector('#df-77abe722-4957-42b9-9690-18ccae88a04d button.colab-df-convert');\n",
       "        buttonEl.style.display =\n",
       "          google.colab.kernel.accessAllowed ? 'block' : 'none';\n",
       "\n",
       "        async function convertToInteractive(key) {\n",
       "          const element = document.querySelector('#df-77abe722-4957-42b9-9690-18ccae88a04d');\n",
       "          const dataTable =\n",
       "            await google.colab.kernel.invokeFunction('convertToInteractive',\n",
       "                                                     [key], {});\n",
       "          if (!dataTable) return;\n",
       "\n",
       "          const docLinkHtml = 'Like what you see? Visit the ' +\n",
       "            '<a target=\"_blank\" href=https://colab.research.google.com/notebooks/data_table.ipynb>data table notebook</a>'\n",
       "            + ' to learn more about interactive tables.';\n",
       "          element.innerHTML = '';\n",
       "          dataTable['output_type'] = 'display_data';\n",
       "          await google.colab.output.renderOutput(dataTable, element);\n",
       "          const docLink = document.createElement('div');\n",
       "          docLink.innerHTML = docLinkHtml;\n",
       "          element.appendChild(docLink);\n",
       "        }\n",
       "      </script>\n",
       "    </div>\n",
       "  </div>\n",
       "  "
      ],
      "text/plain": [
       "         LAT      LON  YEAR  MO  DY  WS50M_RANGE  WS10M_MIN   WS10M   WS50M  \\\n",
       "0    4.03161  9.21461  2021   1   1         3.28       0.95    1.96    2.75   \n",
       "1    4.03161  9.21461  2021   1   2         2.82       1.13    1.87    2.52   \n",
       "2    4.03161  9.21461  2021   1   3         3.02       0.61    1.62    2.17   \n",
       "3    4.03161  9.21461  2021   1   4         4.22       0.07    1.38    1.89   \n",
       "4    4.03161  9.21461  2021   1   5         3.26       0.62    1.87    2.52   \n",
       "..       ...      ...   ...  ..  ..          ...        ...     ...     ...   \n",
       "108  4.03161  9.21461  2021   4  19         1.46       1.47    2.02    2.66   \n",
       "109  4.03161  9.21461  2021   4  20         2.02       0.94    1.72    2.27   \n",
       "110  4.03161  9.21461  2021   4  21         3.72       0.38    1.78    2.43   \n",
       "111  4.03161  9.21461  2021   4  22      -999.00    -999.00 -999.00 -999.00   \n",
       "112  4.03161  9.21461  2021   4  23      -999.00    -999.00 -999.00 -999.00   \n",
       "\n",
       "     T2M_MAX  ...     T2M  WS10M_RANGE  T2M_MIN  WS10M_MAX  ALLSKY_SFC_SW_DWN  \\\n",
       "0      29.10  ...   26.50         1.54    24.93       2.49               4.46   \n",
       "1      29.32  ...   26.47         1.28    24.79       2.41               5.01   \n",
       "2      28.16  ...   26.05         1.70    24.69       2.31               4.99   \n",
       "3      29.79  ...   26.50         2.61    24.51       2.67               4.94   \n",
       "4      28.69  ...   26.24         1.87    24.60       2.50               5.17   \n",
       "..       ...  ...     ...          ...      ...        ...                ...   \n",
       "108    28.21  ...   26.22         1.06    24.94       2.53            -999.00   \n",
       "109    27.82  ...   26.17         1.15    24.84       2.08            -999.00   \n",
       "110    29.30  ...   26.80         2.43    25.27       2.81            -999.00   \n",
       "111  -999.00  ... -999.00      -999.00  -999.00    -999.00            -999.00   \n",
       "112  -999.00  ... -999.00      -999.00  -999.00    -999.00            -999.00   \n",
       "\n",
       "     T2MDEW      PS    RH2M  WS50M_MIN    WS2M  \n",
       "0     23.99   98.45   86.04       0.89    1.40  \n",
       "1     23.77   98.47   85.04       1.15    1.33  \n",
       "2     23.55   98.47   86.02       0.71    1.17  \n",
       "3     23.40   98.37   82.89       0.04    0.97  \n",
       "4     23.85   98.33   86.60       0.77    1.37  \n",
       "..      ...     ...     ...        ...     ...  \n",
       "108   23.98   98.41   87.46       1.98    1.42  \n",
       "109   23.95   98.36   87.51       1.00    1.20  \n",
       "110   23.90   98.35   83.97       0.52    1.28  \n",
       "111 -999.00 -999.00 -999.00    -999.00 -999.00  \n",
       "112 -999.00 -999.00 -999.00    -999.00 -999.00  \n",
       "\n",
       "[113 rows x 23 columns]"
      ]
     },
     "execution_count": 37,
     "metadata": {},
     "output_type": "execute_result"
    }
   ],
   "source": [
    "df4 = pd.read_csv(url, parse_dates=True)\n",
    "df4"
   ]
  },
  {
   "cell_type": "code",
   "execution_count": null,
   "metadata": {
    "id": "5LqXj7Lbfzvj"
   },
   "outputs": [],
   "source": [
    "MaxTemp = df4[df4['T2M_MAX'] >0]['T2M_MAX']"
   ]
  },
  {
   "cell_type": "code",
   "execution_count": null,
   "metadata": {
    "id": "aPSnGduRfztC"
   },
   "outputs": [],
   "source": [
    "plt.figure(figsize=(8,6))\n",
    "plt.plot(MaxTemp)"
   ]
  },
  {
   "cell_type": "code",
   "execution_count": null,
   "metadata": {
    "id": "qULNDQIpfzq6"
   },
   "outputs": [],
   "source": [
    "def ReScaleAroundZero(data, a):\n",
    "    data_avg = data.mean()\n",
    "    scaled_data = a*(data - data_avg)\n",
    "    return scaled_data"
   ]
  },
  {
   "cell_type": "code",
   "execution_count": null,
   "metadata": {
    "id": "C-mb18SHfzoy"
   },
   "outputs": [],
   "source": [
    "MaxTemp_Rescaled  = ReScaleAroundZero(MaxTemp , 0.1)"
   ]
  },
  {
   "cell_type": "code",
   "execution_count": null,
   "metadata": {
    "id": "Ran88IfDfzmS"
   },
   "outputs": [],
   "source": [
    "plt.figure(figsize=(15,6))\n",
    "plt.plot(MaxTemp_Rescaled)"
   ]
  },
  {
   "cell_type": "code",
   "execution_count": null,
   "metadata": {
    "id": "2E02exh0fzh0"
   },
   "outputs": [],
   "source": [
    "MaxTempScaledValues = pd.DataFrame(MaxTemp_Rescaled)\n",
    "\n",
    "df_new = pd.concat([MaxTempScaledValues.shift(1), MaxTempScaledValues], axis=1)\n",
    "df_new.columns = ['t-1', 't']\n",
    "df_new = df_new.dropna(how= 'any')\n",
    "df_new.head(5)"
   ]
  },
  {
   "cell_type": "code",
   "execution_count": null,
   "metadata": {
    "id": "9cVBxap0fzfG"
   },
   "outputs": [],
   "source": [
    "n_points = len(df_new)\n",
    "train_points = int(4/5*n_points)+1\n",
    "X_train, X_test =df_new['t-1'].values[:train_points],  df_new['t-1'].values[train_points:  ]\n",
    "y_train, y_test =df_new['t'].values[:train_points  ],  df_new['t'].values[train_points:  ]\n",
    "print(\"We have\", len(X_train), \"training points and\", X_test.shape[0], \"testing points\")"
   ]
  },
  {
   "cell_type": "code",
   "execution_count": null,
   "metadata": {
    "id": "CNvZ2dAEfzcW"
   },
   "outputs": [],
   "source": [
    "from tensorflow.python.framework import ops\n",
    "ops.reset_default_graph()\n",
    "keras.backend.clear_session()\n",
    "\n",
    "X_train = X_train.reshape(X_train.shape[0],1, 1)\n",
    "X_test = X_test.reshape(X_test.shape[0],1, 1)\n",
    "print(X_train.shape)\n",
    "print(X_test.shape)"
   ]
  },
  {
   "cell_type": "code",
   "execution_count": null,
   "metadata": {
    "id": "gz4Y8fLDfzZw"
   },
   "outputs": [],
   "source": [
    "model = Sequential()\n",
    "model.add(SimpleRNN(units=10, input_shape=(X_train.shape[1], X_train.shape[2]))) #input_shape takes time steps and features\n",
    "model.add(Dense(1))\n",
    "\n",
    "model.compile(loss='mean_squared_error', optimizer='sgd')\n",
    "\n",
    "model.summary()"
   ]
  },
  {
   "cell_type": "code",
   "execution_count": null,
   "metadata": {
    "id": "weKP7V02fzXe"
   },
   "outputs": [],
   "source": [
    "nb_epoch = 100\n",
    "\n",
    "model.fit(X_train, y_train, epochs=nb_epoch)"
   ]
  },
  {
   "cell_type": "code",
   "execution_count": null,
   "metadata": {
    "id": "972TYJYWQbb6"
   },
   "outputs": [],
   "source": [
    "y_train_pred = model.predict(X_train)\n",
    "y_test_pred = model.predict(X_test)\n",
    "\n",
    "\n",
    "\n"
   ]
  },
  {
   "cell_type": "code",
   "execution_count": null,
   "metadata": {
    "id": "8iDUkLQCQbZ7"
   },
   "outputs": [],
   "source": [
    "mean_squared_error(y_train_pred , y_train)\n"
   ]
  },
  {
   "cell_type": "code",
   "execution_count": null,
   "metadata": {
    "id": "GZ-KZucXQbXK"
   },
   "outputs": [],
   "source": [
    "plt.figure(figsize=(20,8))\n",
    "plt.plot(y_train_pred[1:] , label ='y_train_pred')\n",
    "plt.plot(y_train , label ='y_train')\n",
    "plt.legend(loc='upper right')"
   ]
  },
  {
   "cell_type": "code",
   "execution_count": null,
   "metadata": {
    "id": "-SJPd4jwQbUr"
   },
   "outputs": [],
   "source": [
    "mean_squared_error(y_test_pred , y_test)\n"
   ]
  },
  {
   "cell_type": "code",
   "execution_count": null,
   "metadata": {
    "id": "wVqNo0INQbOq"
   },
   "outputs": [],
   "source": [
    "plt.figure(figsize=(20,8))\n",
    "plt.plot(y_test_pred[1:],label ='y_test_pred' )\n",
    "plt.plot(y_test , label ='y_test')\n",
    "plt.legend(loc='best')"
   ]
  },
  {
   "cell_type": "code",
   "execution_count": null,
   "metadata": {
    "id": "wtbJqzomQ1Af"
   },
   "outputs": [],
   "source": []
  },
  {
   "cell_type": "code",
   "execution_count": null,
   "metadata": {
    "id": "dqCDtIXGQ09w"
   },
   "outputs": [],
   "source": [
    "model = Sequential()\n",
    "model.add(LSTM(4, input_shape=(X_train.shape[1], X_train.shape[2]))) #input_shape takes time steps and features\n",
    "#model.add(LSTM(10))\n",
    "model.add(Dense(1))\n",
    "model.compile(loss='mean_squared_error', optimizer='adam')"
   ]
  },
  {
   "cell_type": "code",
   "execution_count": null,
   "metadata": {
    "id": "12o44gBXQ06-"
   },
   "outputs": [],
   "source": [
    "nb_epoch = 500\n",
    "\n",
    "model.fit(X_train, y_train, epochs=nb_epoch)"
   ]
  },
  {
   "cell_type": "code",
   "execution_count": null,
   "metadata": {
    "id": "X3ndfOx4Q04j"
   },
   "outputs": [],
   "source": [
    "y_train_pred = model.predict(X_train)\n",
    "y_test_pred = model.predict(X_test)"
   ]
  },
  {
   "cell_type": "code",
   "execution_count": null,
   "metadata": {
    "id": "3qbnruqHQ01v"
   },
   "outputs": [],
   "source": [
    "plt.figure(figsize=(20,8))\n",
    "plt.plot(y_train_pred[1:] , label ='y_train_pred')\n",
    "plt.plot(y_train , label ='y_train')\n",
    "plt.legend(loc='upper right')"
   ]
  },
  {
   "cell_type": "code",
   "execution_count": null,
   "metadata": {
    "id": "xRAP7xXpQ0zI"
   },
   "outputs": [],
   "source": [
    "plt.figure(figsize=(20,8))\n",
    "plt.plot(y_test_pred[1:],label ='y_test_pred' )\n",
    "plt.plot(y_test , label ='y_test')\n",
    "plt.legend(loc='best')"
   ]
  },
  {
   "cell_type": "code",
   "execution_count": null,
   "metadata": {
    "id": "Ac-3qbdlQ0wc"
   },
   "outputs": [],
   "source": []
  },
  {
   "cell_type": "code",
   "execution_count": null,
   "metadata": {
    "id": "usTUnT32Q0tg"
   },
   "outputs": [],
   "source": [
    "MaxTempScaledValues = pd.DataFrame(MaxTemp_Rescaled)\n",
    "\n",
    "df_new = pd.concat([MaxTempScaledValues.shift(10),MaxTempScaledValues.shift(9),\n",
    "                    MaxTempScaledValues.shift(8),MaxTempScaledValues.shift(7),\n",
    "                    MaxTempScaledValues.shift(6),MaxTempScaledValues.shift(5),\n",
    "                   MaxTempScaledValues.shift(4),MaxTempScaledValues.shift(3),\n",
    "                   MaxTempScaledValues.shift(2),MaxTempScaledValues.shift(1),\n",
    "                   MaxTempScaledValues],axis=1)\n",
    "df_new.columns = ['t-10','t-9', 't-8', 't-7' , 't-6' , 't-5' , 't-4', 't-3', 't-2' , 't-1', 't']\n",
    "df_new = df_new.dropna(how= 'any')\n",
    "df_new.head(5)"
   ]
  },
  {
   "cell_type": "code",
   "execution_count": null,
   "metadata": {
    "id": "NeuWv9L-Q0q-"
   },
   "outputs": [],
   "source": [
    "n_points = len(df_new)\n",
    "train_points = int(2/3*n_points)+1\n",
    "X2_train, X2_test =df_new.iloc[:train_points , [0 , 1 , 2, 3,4,5,6,7,8,9]], df_new.iloc[train_points :, [0 , 1 , 2, 3,4,5,6,7,8,9]]\n",
    "y2_train, y2_test =df_new.iloc[:train_points: , 10],  df_new.iloc[train_points: , 10]\n",
    "print(\"We have\", len(X_train), \"training points and\", X_test.shape[0], \"testing points\")"
   ]
  },
  {
   "cell_type": "markdown",
   "metadata": {
    "id": "iPZZ4NjTfxQP"
   },
   "source": [
    "The end..."
   ]
  },
  {
   "cell_type": "code",
   "execution_count": null,
   "metadata": {
    "id": "Q0aeoLMzfyKA"
   },
   "outputs": [],
   "source": [
    "from tensorflow.python.framework import ops\n",
    "ops.reset_default_graph()\n",
    "keras.backend.clear_session()\n",
    "\n",
    "X2_train = np.array(X2_train).reshape(X2_train.shape[0], X2_train.shape[1], 1)\n",
    "X2_test = np.array(X2_test).reshape(X2_test.shape[0], X2_test.shape[1], 1)\n",
    "print(X2_train.shape)\n",
    "print(X2_test.shape)"
   ]
  },
  {
   "cell_type": "code",
   "execution_count": null,
   "metadata": {
    "id": "jcclP0zfTXxj"
   },
   "outputs": [],
   "source": [
    "model = Sequential()\n",
    "model.add(LSTM(units=30, input_shape=(X2_train.shape[1], X2_train.shape[2]))) #input_shape takes time steps and features\n",
    "model.add(Dense(1))\n",
    "model.compile(loss='mean_squared_error', optimizer='adam')\n",
    "model.summary()"
   ]
  },
  {
   "cell_type": "code",
   "execution_count": null,
   "metadata": {
    "id": "Mjppw8-GTXvG"
   },
   "outputs": [],
   "source": [
    "nb_epoch = 500\n",
    "\n",
    "model.fit(X_train, y_train, epochs=nb_epoch)"
   ]
  },
  {
   "cell_type": "code",
   "execution_count": null,
   "metadata": {
    "id": "gF5BI_mHTXsh"
   },
   "outputs": [],
   "source": [
    "plt.figure(figsize=(20,8))\n",
    "plt.plot(y_train_pred[1:] , label ='y_train_pred')\n",
    "plt.plot(y_train , label ='y_train')\n",
    "plt.legend(loc='upper right')"
   ]
  },
  {
   "cell_type": "code",
   "execution_count": null,
   "metadata": {
    "id": "glmz3lhSTXpb"
   },
   "outputs": [],
   "source": [
    "plt.figure(figsize=(20,8))\n",
    "plt.plot(y_test_pred[1:],label ='y_test_pred' )\n",
    "plt.plot(y_test , label ='y_test')\n",
    "plt.legend(loc='best')"
   ]
  },
  {
   "cell_type": "code",
   "execution_count": null,
   "metadata": {
    "id": "hg9GcPVo_xiV"
   },
   "outputs": [],
   "source": []
  }
 ],
 "metadata": {
  "accelerator": "GPU",
  "colab": {
   "name": "",
   "version": ""
  },
  "kernelspec": {
   "display_name": "Python 3 (ipykernel)",
   "language": "python",
   "name": "python3"
  },
  "language_info": {
   "codemirror_mode": {
    "name": "ipython",
    "version": 3
   },
   "file_extension": ".py",
   "mimetype": "text/x-python",
   "name": "python",
   "nbconvert_exporter": "python",
   "pygments_lexer": "ipython3",
   "version": "3.9.13"
  }
 },
 "nbformat": 4,
 "nbformat_minor": 1
}
